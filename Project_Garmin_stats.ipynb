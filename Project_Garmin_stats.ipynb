{
 "cells": [
  {
   "cell_type": "markdown",
   "metadata": {},
   "source": [
    "# Garmin Statistics\n",
    "## Heart rate and activities data analyses"
   ]
  },
  {
   "cell_type": "code",
   "execution_count": 1,
   "metadata": {},
   "outputs": [
    {
     "data": {
      "application/javascript": [
       "\n",
       "            setTimeout(function() {\n",
       "                var nbb_cell_id = 1;\n",
       "                var nbb_unformatted_code = \"%load_ext nb_black\";\n",
       "                var nbb_formatted_code = \"%load_ext nb_black\";\n",
       "                var nbb_cells = Jupyter.notebook.get_cells();\n",
       "                for (var i = 0; i < nbb_cells.length; ++i) {\n",
       "                    if (nbb_cells[i].input_prompt_number == nbb_cell_id) {\n",
       "                        if (nbb_cells[i].get_text() == nbb_unformatted_code) {\n",
       "                             nbb_cells[i].set_text(nbb_formatted_code);\n",
       "                        }\n",
       "                        break;\n",
       "                    }\n",
       "                }\n",
       "            }, 500);\n",
       "            "
      ],
      "text/plain": [
       "<IPython.core.display.Javascript object>"
      ]
     },
     "metadata": {},
     "output_type": "display_data"
    }
   ],
   "source": [
    "%load_ext nb_black"
   ]
  },
  {
   "cell_type": "code",
   "execution_count": 2,
   "metadata": {},
   "outputs": [
    {
     "name": "stderr",
     "output_type": "stream",
     "text": [
      "/Library/Frameworks/Python.framework/Versions/3.7/lib/python3.7/site-packages/toai/imports.py:79: UserWarning: Could not find kaggle.json. Make sure it's located in /Users/Indre/.kaggle. Or use the environment method.\n",
      "  warnings.warn(str(error))\n"
     ]
    },
    {
     "data": {
      "application/javascript": [
       "\n",
       "            setTimeout(function() {\n",
       "                var nbb_cell_id = 2;\n",
       "                var nbb_unformatted_code = \"import os\\n\\n%matplotlib inline\\nimport geopandas as gpd\\nimport folium\\nfrom folium import Choropleth, Circle, Marker\\nfrom folium.plugins import HeatMap, MarkerCluster\\nfrom shapely.geometry import LineString\\nfrom dotenv import load_dotenv\\nimport mplcursors\\nimport garminexport\\nfrom garminconnect import (\\n    Garmin,\\n    GarminConnectConnectionError,\\n    GarminConnectTooManyRequestsError,\\n    GarminConnectAuthenticationError,\\n)\\n\\nfrom datetime import timedelta, datetime as dt\\nfrom toai.imports import *\\nfrom toai.inpute import NumericInputer\\nfrom scipy.stats import skew, kurtosis\";\n",
       "                var nbb_formatted_code = \"import os\\n\\n%matplotlib inline\\nimport geopandas as gpd\\nimport folium\\nfrom folium import Choropleth, Circle, Marker\\nfrom folium.plugins import HeatMap, MarkerCluster\\nfrom shapely.geometry import LineString\\nfrom dotenv import load_dotenv\\nimport mplcursors\\nimport garminexport\\nfrom garminconnect import (\\n    Garmin,\\n    GarminConnectConnectionError,\\n    GarminConnectTooManyRequestsError,\\n    GarminConnectAuthenticationError,\\n)\\n\\nfrom datetime import timedelta, datetime as dt\\nfrom toai.imports import *\\nfrom toai.inpute import NumericInputer\\nfrom scipy.stats import skew, kurtosis\";\n",
       "                var nbb_cells = Jupyter.notebook.get_cells();\n",
       "                for (var i = 0; i < nbb_cells.length; ++i) {\n",
       "                    if (nbb_cells[i].input_prompt_number == nbb_cell_id) {\n",
       "                        if (nbb_cells[i].get_text() == nbb_unformatted_code) {\n",
       "                             nbb_cells[i].set_text(nbb_formatted_code);\n",
       "                        }\n",
       "                        break;\n",
       "                    }\n",
       "                }\n",
       "            }, 500);\n",
       "            "
      ],
      "text/plain": [
       "<IPython.core.display.Javascript object>"
      ]
     },
     "metadata": {},
     "output_type": "display_data"
    }
   ],
   "source": [
    "import os\n",
    "\n",
    "%matplotlib inline\n",
    "import geopandas as gpd\n",
    "import folium\n",
    "from folium import Choropleth, Circle, Marker\n",
    "from folium.plugins import HeatMap, MarkerCluster\n",
    "from shapely.geometry import LineString\n",
    "from dotenv import load_dotenv\n",
    "import mplcursors\n",
    "import garminexport\n",
    "from garminconnect import (\n",
    "    Garmin,\n",
    "    GarminConnectConnectionError,\n",
    "    GarminConnectTooManyRequestsError,\n",
    "    GarminConnectAuthenticationError,\n",
    ")\n",
    "\n",
    "from datetime import timedelta, datetime as dt\n",
    "from toai.imports import *\n",
    "from toai.inpute import NumericInputer\n",
    "from scipy.stats import skew, kurtosis"
   ]
  },
  {
   "cell_type": "code",
   "execution_count": 3,
   "metadata": {},
   "outputs": [
    {
     "data": {
      "application/javascript": [
       "\n",
       "            setTimeout(function() {\n",
       "                var nbb_cell_id = 3;\n",
       "                var nbb_unformatted_code = \"load_dotenv()\\n\\nMY_PSW = os.getenv(\\\"MY_PSW\\\")\\nMY_EMAIL = os.getenv(\\\"MY_EMAIL\\\")\";\n",
       "                var nbb_formatted_code = \"load_dotenv()\\n\\nMY_PSW = os.getenv(\\\"MY_PSW\\\")\\nMY_EMAIL = os.getenv(\\\"MY_EMAIL\\\")\";\n",
       "                var nbb_cells = Jupyter.notebook.get_cells();\n",
       "                for (var i = 0; i < nbb_cells.length; ++i) {\n",
       "                    if (nbb_cells[i].input_prompt_number == nbb_cell_id) {\n",
       "                        if (nbb_cells[i].get_text() == nbb_unformatted_code) {\n",
       "                             nbb_cells[i].set_text(nbb_formatted_code);\n",
       "                        }\n",
       "                        break;\n",
       "                    }\n",
       "                }\n",
       "            }, 500);\n",
       "            "
      ],
      "text/plain": [
       "<IPython.core.display.Javascript object>"
      ]
     },
     "metadata": {},
     "output_type": "display_data"
    }
   ],
   "source": [
    "load_dotenv()\n",
    "\n",
    "MY_PSW = os.getenv(\"MY_PSW\")\n",
    "MY_EMAIL = os.getenv(\"MY_EMAIL\")"
   ]
  },
  {
   "cell_type": "code",
   "execution_count": 4,
   "metadata": {},
   "outputs": [
    {
     "data": {
      "application/javascript": [
       "\n",
       "            setTimeout(function() {\n",
       "                var nbb_cell_id = 4;\n",
       "                var nbb_unformatted_code = \"try:\\n    client = Garmin(MY_EMAIL, MY_PSW)\\nexcept (\\n    GarminConnectConnectionError,\\n    GarminConnectAuthenticationError,\\n    GarminConnectTooManyRequestsError,\\n) as err:\\n    print(\\\"Error occured during Garmin Connect Client init: %s\\\" % err)\\n    quit()\\nexcept Exception:\\n    print(\\\"Unknown error occured during Garmin Connect Client init\\\")\\n    quit()\";\n",
       "                var nbb_formatted_code = \"try:\\n    client = Garmin(MY_EMAIL, MY_PSW)\\nexcept (\\n    GarminConnectConnectionError,\\n    GarminConnectAuthenticationError,\\n    GarminConnectTooManyRequestsError,\\n) as err:\\n    print(\\\"Error occured during Garmin Connect Client init: %s\\\" % err)\\n    quit()\\nexcept Exception:\\n    print(\\\"Unknown error occured during Garmin Connect Client init\\\")\\n    quit()\";\n",
       "                var nbb_cells = Jupyter.notebook.get_cells();\n",
       "                for (var i = 0; i < nbb_cells.length; ++i) {\n",
       "                    if (nbb_cells[i].input_prompt_number == nbb_cell_id) {\n",
       "                        if (nbb_cells[i].get_text() == nbb_unformatted_code) {\n",
       "                             nbb_cells[i].set_text(nbb_formatted_code);\n",
       "                        }\n",
       "                        break;\n",
       "                    }\n",
       "                }\n",
       "            }, 500);\n",
       "            "
      ],
      "text/plain": [
       "<IPython.core.display.Javascript object>"
      ]
     },
     "metadata": {},
     "output_type": "display_data"
    }
   ],
   "source": [
    "try:\n",
    "    client = Garmin(MY_EMAIL, MY_PSW)\n",
    "except (\n",
    "    GarminConnectConnectionError,\n",
    "    GarminConnectAuthenticationError,\n",
    "    GarminConnectTooManyRequestsError,\n",
    ") as err:\n",
    "    print(\"Error occured during Garmin Connect Client init: %s\" % err)\n",
    "    quit()\n",
    "except Exception:\n",
    "    print(\"Unknown error occured during Garmin Connect Client init\")\n",
    "    quit()"
   ]
  },
  {
   "cell_type": "markdown",
   "metadata": {},
   "source": [
    "## Part 1: Getting the data\n",
    "\n",
    "Data is colllected from **Garmin API** by using *garminconnect* package. One user's data was collected. See more about *garminconnect* [here](https://pypi.org/project/garminconnect/). Heart rate observation  and activities statistcs datasets was selected for analyses.\n",
    "\n",
    "### Heart rate datasets\n",
    "\n",
    "- Heart rate is recorded every 2 minutes while Garmin watch is worn. If there is no signal, `NaN` values are generated.\n",
    "- `NaN` values was filled in with last non missing observation.\n",
    "- *garminconnect* generates a new heart rate datasets for each 24 hour starting at midnight.\n",
    "- In addition to observed heart rates, some statistics as min, max and resting heart rates are provided. \n",
    "- The heart rate dataset starts by 2019-08-31 and ends by 2020-07-20. Dates without any observations are omitted from total dataset. \n",
    "- Each heart rate has unique datestamp type index. Just time part from datestamp was selected in oder to combine heart rate observations.\n",
    "- For heart rate statictics dataset *min, max, resting* and *7 days resting average heart rates* were selected. \n"
   ]
  },
  {
   "cell_type": "code",
   "execution_count": 5,
   "metadata": {},
   "outputs": [
    {
     "data": {
      "text/html": [
       "<div>\n",
       "<style scoped>\n",
       "    .dataframe tbody tr th:only-of-type {\n",
       "        vertical-align: middle;\n",
       "    }\n",
       "\n",
       "    .dataframe tbody tr th {\n",
       "        vertical-align: top;\n",
       "    }\n",
       "\n",
       "    .dataframe thead th {\n",
       "        text-align: right;\n",
       "    }\n",
       "</style>\n",
       "<table border=\"1\" class=\"dataframe\">\n",
       "  <thead>\n",
       "    <tr style=\"text-align: right;\">\n",
       "      <th></th>\n",
       "      <th>maxHeartRate</th>\n",
       "      <th>minHeartRate</th>\n",
       "      <th>restingHeartRate</th>\n",
       "      <th>lastSevenDaysAvgRestingHeartRate</th>\n",
       "    </tr>\n",
       "    <tr>\n",
       "      <th>calendarDate</th>\n",
       "      <th></th>\n",
       "      <th></th>\n",
       "      <th></th>\n",
       "      <th></th>\n",
       "    </tr>\n",
       "  </thead>\n",
       "  <tbody>\n",
       "    <tr>\n",
       "      <th>2019-08-31</th>\n",
       "      <td>170</td>\n",
       "      <td>46</td>\n",
       "      <td>62</td>\n",
       "      <td>63</td>\n",
       "    </tr>\n",
       "  </tbody>\n",
       "</table>\n",
       "</div>"
      ],
      "text/plain": [
       "              maxHeartRate  minHeartRate  restingHeartRate  \\\n",
       "calendarDate                                                 \n",
       "2019-08-31             170            46                62   \n",
       "\n",
       "              lastSevenDaysAvgRestingHeartRate  \n",
       "calendarDate                                    \n",
       "2019-08-31                                  63  "
      ]
     },
     "execution_count": 5,
     "metadata": {},
     "output_type": "execute_result"
    },
    {
     "data": {
      "application/javascript": [
       "\n",
       "            setTimeout(function() {\n",
       "                var nbb_cell_id = 5;\n",
       "                var nbb_unformatted_code = \"d = [client.get_heart_rates(str(single_date.date())) for single_date in pd.date_range(start='2019-08-31', \\n                                                                                      periods=1 #400\\n                                                                                      , freq='D')]\\nkey1 = ('calendarDate', 'maxHeartRate', 'minHeartRate', 'restingHeartRate', 'lastSevenDaysAvgRestingHeartRate')\\ndf_2 = pd.DataFrame(d)\\ndf_3 = df_2.loc[:, key1]\\ndf_3 = df_3.set_index('calendarDate')\\ndf_3.head()\";\n",
       "                var nbb_formatted_code = \"d = [\\n    client.get_heart_rates(str(single_date.date()))\\n    for single_date in pd.date_range(start=\\\"2019-08-31\\\", periods=1, freq=\\\"D\\\")  # 400\\n]\\nkey1 = (\\n    \\\"calendarDate\\\",\\n    \\\"maxHeartRate\\\",\\n    \\\"minHeartRate\\\",\\n    \\\"restingHeartRate\\\",\\n    \\\"lastSevenDaysAvgRestingHeartRate\\\",\\n)\\ndf_2 = pd.DataFrame(d)\\ndf_3 = df_2.loc[:, key1]\\ndf_3 = df_3.set_index(\\\"calendarDate\\\")\\ndf_3.head()\";\n",
       "                var nbb_cells = Jupyter.notebook.get_cells();\n",
       "                for (var i = 0; i < nbb_cells.length; ++i) {\n",
       "                    if (nbb_cells[i].input_prompt_number == nbb_cell_id) {\n",
       "                        if (nbb_cells[i].get_text() == nbb_unformatted_code) {\n",
       "                             nbb_cells[i].set_text(nbb_formatted_code);\n",
       "                        }\n",
       "                        break;\n",
       "                    }\n",
       "                }\n",
       "            }, 500);\n",
       "            "
      ],
      "text/plain": [
       "<IPython.core.display.Javascript object>"
      ]
     },
     "metadata": {},
     "output_type": "display_data"
    }
   ],
   "source": [
    "d = [\n",
    "    client.get_heart_rates(str(single_date.date()))\n",
    "    for single_date in pd.date_range(start=\"2019-08-31\", periods=1, freq=\"D\")  # 400\n",
    "]\n",
    "key1 = (\n",
    "    \"calendarDate\",\n",
    "    \"maxHeartRate\",\n",
    "    \"minHeartRate\",\n",
    "    \"restingHeartRate\",\n",
    "    \"lastSevenDaysAvgRestingHeartRate\",\n",
    ")\n",
    "df_2 = pd.DataFrame(d)\n",
    "df_3 = df_2.loc[:, key1]\n",
    "df_3 = df_3.set_index(\"calendarDate\")\n",
    "df_3.head()"
   ]
  },
  {
   "cell_type": "code",
   "execution_count": 6,
   "metadata": {},
   "outputs": [
    {
     "data": {
      "text/html": [
       "<div>\n",
       "<style scoped>\n",
       "    .dataframe tbody tr th:only-of-type {\n",
       "        vertical-align: middle;\n",
       "    }\n",
       "\n",
       "    .dataframe tbody tr th {\n",
       "        vertical-align: top;\n",
       "    }\n",
       "\n",
       "    .dataframe thead th {\n",
       "        text-align: right;\n",
       "    }\n",
       "</style>\n",
       "<table border=\"1\" class=\"dataframe\">\n",
       "  <thead>\n",
       "    <tr style=\"text-align: right;\">\n",
       "      <th></th>\n",
       "    </tr>\n",
       "  </thead>\n",
       "  <tbody>\n",
       "  </tbody>\n",
       "</table>\n",
       "</div>"
      ],
      "text/plain": [
       "Empty DataFrame\n",
       "Columns: []\n",
       "Index: []"
      ]
     },
     "execution_count": 6,
     "metadata": {},
     "output_type": "execute_result"
    },
    {
     "data": {
      "application/javascript": [
       "\n",
       "            setTimeout(function() {\n",
       "                var nbb_cell_id = 6;\n",
       "                var nbb_unformatted_code = \"heart_rate = pd.DataFrame()\\n\\nfor single_date in pd.date_range(start='2019-08-31', periods=400, freq='D'):\\n    try:\\n        d_temp = str(single_date.date())\\n        df_temp = pd.DataFrame.from_dict(client.get_heart_rates(d_temp)['heartRateValues'])\\n        df_temp['time'] = df_temp[0].apply(lambda x: datetime.fromtimestamp(x/1000).strftime(\\\"%H:%M:%S\\\"))\\n        df_temp.set_index('time', inplace=True)\\n        df_temp = df_temp.drop(0, axis=1)\\n        df_temp.rename(columns={1: d_temp}, inplace=True)\\n        heart_rate = heart_rate.merge(df_temp, how='outer', left_index=True, right_index=True)\\n    except:\\n        single_date += timedelta(days=1)\\n      \\nheart_rate.head()\";\n",
       "                var nbb_formatted_code = \"heart_rate = pd.DataFrame()\\n\\nfor single_date in pd.date_range(start=\\\"2019-08-31\\\", periods=400, freq=\\\"D\\\"):\\n    try:\\n        d_temp = str(single_date.date())\\n        df_temp = pd.DataFrame.from_dict(\\n            client.get_heart_rates(d_temp)[\\\"heartRateValues\\\"]\\n        )\\n        df_temp[\\\"time\\\"] = df_temp[0].apply(\\n            lambda x: datetime.fromtimestamp(x / 1000).strftime(\\\"%H:%M:%S\\\")\\n        )\\n        df_temp.set_index(\\\"time\\\", inplace=True)\\n        df_temp = df_temp.drop(0, axis=1)\\n        df_temp.rename(columns={1: d_temp}, inplace=True)\\n        heart_rate = heart_rate.merge(\\n            df_temp, how=\\\"outer\\\", left_index=True, right_index=True\\n        )\\n    except:\\n        single_date += timedelta(days=1)\\n\\nheart_rate.head()\";\n",
       "                var nbb_cells = Jupyter.notebook.get_cells();\n",
       "                for (var i = 0; i < nbb_cells.length; ++i) {\n",
       "                    if (nbb_cells[i].input_prompt_number == nbb_cell_id) {\n",
       "                        if (nbb_cells[i].get_text() == nbb_unformatted_code) {\n",
       "                             nbb_cells[i].set_text(nbb_formatted_code);\n",
       "                        }\n",
       "                        break;\n",
       "                    }\n",
       "                }\n",
       "            }, 500);\n",
       "            "
      ],
      "text/plain": [
       "<IPython.core.display.Javascript object>"
      ]
     },
     "metadata": {},
     "output_type": "display_data"
    }
   ],
   "source": [
    "heart_rate = pd.DataFrame()\n",
    "\n",
    "for single_date in pd.date_range(start=\"2019-08-31\", periods=400, freq=\"D\"):\n",
    "    try:\n",
    "        d_temp = str(single_date.date())\n",
    "        df_temp = pd.DataFrame.from_dict(\n",
    "            client.get_heart_rates(d_temp)[\"heartRateValues\"]\n",
    "        )\n",
    "        df_temp[\"time\"] = df_temp[0].apply(\n",
    "            lambda x: datetime.fromtimestamp(x / 1000).strftime(\"%H:%M:%S\")\n",
    "        )\n",
    "        df_temp.set_index(\"time\", inplace=True)\n",
    "        df_temp = df_temp.drop(0, axis=1)\n",
    "        df_temp.rename(columns={1: d_temp}, inplace=True)\n",
    "        heart_rate = heart_rate.merge(\n",
    "            df_temp, how=\"outer\", left_index=True, right_index=True\n",
    "        )\n",
    "    except:\n",
    "        single_date += timedelta(days=1)\n",
    "\n",
    "heart_rate.head()"
   ]
  },
  {
   "cell_type": "code",
   "execution_count": 16,
   "metadata": {},
   "outputs": [],
   "source": [
    "heart_rate.to_csv('heart_rate_all.csv')\n",
    "df_3.to_csv('heart_rate_stats.csv')"
   ]
  },
  {
   "cell_type": "markdown",
   "metadata": {},
   "source": [
    "### Activities dataset\n",
    "\n",
    "- Activity is defined as sport activity recorded on Garmin watch. \n",
    "- Mainly running activities are in the dataset. \n",
    "- Some other types of activities are biking and open water swimming.\n",
    "- Activity dataset has 172 variables as activity data, start/end time, type, distance, moving time, longitude, latitude etc. Some variables have missing values since part of the variables are valid just for particular activity type (like max power for biking)."
   ]
  },
  {
   "cell_type": "code",
   "execution_count": null,
   "metadata": {},
   "outputs": [],
   "source": [
    "pd.DataFrame(client.get_activities(1, 400)).to_csv('activity_test.csv')"
   ]
  },
  {
   "cell_type": "markdown",
   "metadata": {},
   "source": [
    "## Part 2: Graphical data analyses\n",
    "\n",
    "Datasets prapation for analyses"
   ]
  },
  {
   "cell_type": "code",
   "execution_count": 7,
   "metadata": {},
   "outputs": [
    {
     "data": {
      "text/html": [
       "<div>\n",
       "<style scoped>\n",
       "    .dataframe tbody tr th:only-of-type {\n",
       "        vertical-align: middle;\n",
       "    }\n",
       "\n",
       "    .dataframe tbody tr th {\n",
       "        vertical-align: top;\n",
       "    }\n",
       "\n",
       "    .dataframe thead th {\n",
       "        text-align: right;\n",
       "    }\n",
       "</style>\n",
       "<table border=\"1\" class=\"dataframe\">\n",
       "  <thead>\n",
       "    <tr style=\"text-align: right;\">\n",
       "      <th></th>\n",
       "      <th>2019-08-31</th>\n",
       "      <th>2019-09-01</th>\n",
       "      <th>2019-09-02</th>\n",
       "      <th>2019-09-03</th>\n",
       "      <th>2019-09-04</th>\n",
       "      <th>2019-09-05</th>\n",
       "      <th>2019-09-06</th>\n",
       "      <th>2019-09-07</th>\n",
       "      <th>2019-09-08</th>\n",
       "      <th>2019-09-09</th>\n",
       "      <th>...</th>\n",
       "      <th>2020-07-11</th>\n",
       "      <th>2020-07-12</th>\n",
       "      <th>2020-07-13</th>\n",
       "      <th>2020-07-14</th>\n",
       "      <th>2020-07-15</th>\n",
       "      <th>2020-07-16</th>\n",
       "      <th>2020-07-17</th>\n",
       "      <th>2020-07-18</th>\n",
       "      <th>2020-07-19</th>\n",
       "      <th>2020-07-20</th>\n",
       "    </tr>\n",
       "    <tr>\n",
       "      <th>time</th>\n",
       "      <th></th>\n",
       "      <th></th>\n",
       "      <th></th>\n",
       "      <th></th>\n",
       "      <th></th>\n",
       "      <th></th>\n",
       "      <th></th>\n",
       "      <th></th>\n",
       "      <th></th>\n",
       "      <th></th>\n",
       "      <th></th>\n",
       "      <th></th>\n",
       "      <th></th>\n",
       "      <th></th>\n",
       "      <th></th>\n",
       "      <th></th>\n",
       "      <th></th>\n",
       "      <th></th>\n",
       "      <th></th>\n",
       "      <th></th>\n",
       "      <th></th>\n",
       "    </tr>\n",
       "  </thead>\n",
       "  <tbody>\n",
       "    <tr>\n",
       "      <th>00:00:00</th>\n",
       "      <td>75.0</td>\n",
       "      <td>71.0</td>\n",
       "      <td>71.0</td>\n",
       "      <td>71.0</td>\n",
       "      <td>62.0</td>\n",
       "      <td>56.0</td>\n",
       "      <td>56.0</td>\n",
       "      <td>56.0</td>\n",
       "      <td>99.0</td>\n",
       "      <td>55.0</td>\n",
       "      <td>...</td>\n",
       "      <td>72.0</td>\n",
       "      <td>72.0</td>\n",
       "      <td>58.0</td>\n",
       "      <td>68.0</td>\n",
       "      <td>67.0</td>\n",
       "      <td>72.0</td>\n",
       "      <td>96.0</td>\n",
       "      <td>53.0</td>\n",
       "      <td>77.0</td>\n",
       "      <td>NaN</td>\n",
       "    </tr>\n",
       "    <tr>\n",
       "      <th>00:02:00</th>\n",
       "      <td>70.0</td>\n",
       "      <td>71.0</td>\n",
       "      <td>77.0</td>\n",
       "      <td>77.0</td>\n",
       "      <td>62.0</td>\n",
       "      <td>58.0</td>\n",
       "      <td>55.0</td>\n",
       "      <td>58.0</td>\n",
       "      <td>96.0</td>\n",
       "      <td>55.0</td>\n",
       "      <td>...</td>\n",
       "      <td>72.0</td>\n",
       "      <td>72.0</td>\n",
       "      <td>58.0</td>\n",
       "      <td>67.0</td>\n",
       "      <td>65.0</td>\n",
       "      <td>72.0</td>\n",
       "      <td>96.0</td>\n",
       "      <td>52.0</td>\n",
       "      <td>78.0</td>\n",
       "      <td>NaN</td>\n",
       "    </tr>\n",
       "    <tr>\n",
       "      <th>00:04:00</th>\n",
       "      <td>72.0</td>\n",
       "      <td>70.0</td>\n",
       "      <td>66.0</td>\n",
       "      <td>66.0</td>\n",
       "      <td>62.0</td>\n",
       "      <td>58.0</td>\n",
       "      <td>55.0</td>\n",
       "      <td>61.0</td>\n",
       "      <td>88.0</td>\n",
       "      <td>56.0</td>\n",
       "      <td>...</td>\n",
       "      <td>71.0</td>\n",
       "      <td>71.0</td>\n",
       "      <td>58.0</td>\n",
       "      <td>66.0</td>\n",
       "      <td>67.0</td>\n",
       "      <td>74.0</td>\n",
       "      <td>82.0</td>\n",
       "      <td>60.0</td>\n",
       "      <td>77.0</td>\n",
       "      <td>NaN</td>\n",
       "    </tr>\n",
       "    <tr>\n",
       "      <th>00:06:00</th>\n",
       "      <td>80.0</td>\n",
       "      <td>72.0</td>\n",
       "      <td>60.0</td>\n",
       "      <td>60.0</td>\n",
       "      <td>58.0</td>\n",
       "      <td>57.0</td>\n",
       "      <td>56.0</td>\n",
       "      <td>59.0</td>\n",
       "      <td>78.0</td>\n",
       "      <td>56.0</td>\n",
       "      <td>...</td>\n",
       "      <td>73.0</td>\n",
       "      <td>73.0</td>\n",
       "      <td>58.0</td>\n",
       "      <td>63.0</td>\n",
       "      <td>62.0</td>\n",
       "      <td>79.0</td>\n",
       "      <td>83.0</td>\n",
       "      <td>60.0</td>\n",
       "      <td>78.0</td>\n",
       "      <td>NaN</td>\n",
       "    </tr>\n",
       "    <tr>\n",
       "      <th>00:08:00</th>\n",
       "      <td>73.0</td>\n",
       "      <td>97.0</td>\n",
       "      <td>54.0</td>\n",
       "      <td>54.0</td>\n",
       "      <td>55.0</td>\n",
       "      <td>57.0</td>\n",
       "      <td>56.0</td>\n",
       "      <td>59.0</td>\n",
       "      <td>69.0</td>\n",
       "      <td>56.0</td>\n",
       "      <td>...</td>\n",
       "      <td>72.0</td>\n",
       "      <td>72.0</td>\n",
       "      <td>57.0</td>\n",
       "      <td>64.0</td>\n",
       "      <td>64.0</td>\n",
       "      <td>69.0</td>\n",
       "      <td>101.0</td>\n",
       "      <td>64.0</td>\n",
       "      <td>79.0</td>\n",
       "      <td>NaN</td>\n",
       "    </tr>\n",
       "  </tbody>\n",
       "</table>\n",
       "<p>5 rows × 324 columns</p>\n",
       "</div>"
      ],
      "text/plain": [
       "          2019-08-31  2019-09-01  2019-09-02  2019-09-03  2019-09-04  \\\n",
       "time                                                                   \n",
       "00:00:00        75.0        71.0        71.0        71.0        62.0   \n",
       "00:02:00        70.0        71.0        77.0        77.0        62.0   \n",
       "00:04:00        72.0        70.0        66.0        66.0        62.0   \n",
       "00:06:00        80.0        72.0        60.0        60.0        58.0   \n",
       "00:08:00        73.0        97.0        54.0        54.0        55.0   \n",
       "\n",
       "          2019-09-05  2019-09-06  2019-09-07  2019-09-08  2019-09-09  ...  \\\n",
       "time                                                                  ...   \n",
       "00:00:00        56.0        56.0        56.0        99.0        55.0  ...   \n",
       "00:02:00        58.0        55.0        58.0        96.0        55.0  ...   \n",
       "00:04:00        58.0        55.0        61.0        88.0        56.0  ...   \n",
       "00:06:00        57.0        56.0        59.0        78.0        56.0  ...   \n",
       "00:08:00        57.0        56.0        59.0        69.0        56.0  ...   \n",
       "\n",
       "          2020-07-11  2020-07-12  2020-07-13  2020-07-14  2020-07-15  \\\n",
       "time                                                                   \n",
       "00:00:00        72.0        72.0        58.0        68.0        67.0   \n",
       "00:02:00        72.0        72.0        58.0        67.0        65.0   \n",
       "00:04:00        71.0        71.0        58.0        66.0        67.0   \n",
       "00:06:00        73.0        73.0        58.0        63.0        62.0   \n",
       "00:08:00        72.0        72.0        57.0        64.0        64.0   \n",
       "\n",
       "          2020-07-16  2020-07-17  2020-07-18  2020-07-19  2020-07-20  \n",
       "time                                                                  \n",
       "00:00:00        72.0        96.0        53.0        77.0         NaN  \n",
       "00:02:00        72.0        96.0        52.0        78.0         NaN  \n",
       "00:04:00        74.0        82.0        60.0        77.0         NaN  \n",
       "00:06:00        79.0        83.0        60.0        78.0         NaN  \n",
       "00:08:00        69.0       101.0        64.0        79.0         NaN  \n",
       "\n",
       "[5 rows x 324 columns]"
      ]
     },
     "execution_count": 7,
     "metadata": {},
     "output_type": "execute_result"
    },
    {
     "data": {
      "application/javascript": [
       "\n",
       "            setTimeout(function() {\n",
       "                var nbb_cell_id = 7;\n",
       "                var nbb_unformatted_code = \"heart_rate_df = pd.read_csv(\\\"heart_rate_all.csv\\\")\\nheart_rate_df = (\\n    heart_rate_df.drop_duplicates(subset=\\\"time\\\", keep=\\\"first\\\")\\n    .set_index(\\\"time\\\")\\n    .fillna(method=\\\"bfill\\\", axis=1)\\n)\\nheart_rate_df.head()\";\n",
       "                var nbb_formatted_code = \"heart_rate_df = pd.read_csv(\\\"heart_rate_all.csv\\\")\\nheart_rate_df = (\\n    heart_rate_df.drop_duplicates(subset=\\\"time\\\", keep=\\\"first\\\")\\n    .set_index(\\\"time\\\")\\n    .fillna(method=\\\"bfill\\\", axis=1)\\n)\\nheart_rate_df.head()\";\n",
       "                var nbb_cells = Jupyter.notebook.get_cells();\n",
       "                for (var i = 0; i < nbb_cells.length; ++i) {\n",
       "                    if (nbb_cells[i].input_prompt_number == nbb_cell_id) {\n",
       "                        if (nbb_cells[i].get_text() == nbb_unformatted_code) {\n",
       "                             nbb_cells[i].set_text(nbb_formatted_code);\n",
       "                        }\n",
       "                        break;\n",
       "                    }\n",
       "                }\n",
       "            }, 500);\n",
       "            "
      ],
      "text/plain": [
       "<IPython.core.display.Javascript object>"
      ]
     },
     "metadata": {},
     "output_type": "display_data"
    }
   ],
   "source": [
    "heart_rate_df = pd.read_csv(\"heart_rate_all.csv\")\n",
    "heart_rate_df = (\n",
    "    heart_rate_df.drop_duplicates(subset=\"time\", keep=\"first\")\n",
    "    .set_index(\"time\")\n",
    "    .fillna(method=\"bfill\", axis=1)\n",
    ")\n",
    "heart_rate_df.head()"
   ]
  },
  {
   "cell_type": "code",
   "execution_count": 8,
   "metadata": {
    "scrolled": true
   },
   "outputs": [
    {
     "data": {
      "text/html": [
       "<div>\n",
       "<style scoped>\n",
       "    .dataframe tbody tr th:only-of-type {\n",
       "        vertical-align: middle;\n",
       "    }\n",
       "\n",
       "    .dataframe tbody tr th {\n",
       "        vertical-align: top;\n",
       "    }\n",
       "\n",
       "    .dataframe thead th {\n",
       "        text-align: right;\n",
       "    }\n",
       "</style>\n",
       "<table border=\"1\" class=\"dataframe\">\n",
       "  <thead>\n",
       "    <tr style=\"text-align: right;\">\n",
       "      <th></th>\n",
       "      <th>activityId</th>\n",
       "      <th>activityName</th>\n",
       "      <th>description</th>\n",
       "      <th>startTimeLocal</th>\n",
       "      <th>startTimeGMT</th>\n",
       "      <th>activityType</th>\n",
       "      <th>eventType</th>\n",
       "      <th>comments</th>\n",
       "      <th>parentId</th>\n",
       "      <th>distance</th>\n",
       "      <th>...</th>\n",
       "      <th>splitSummaries</th>\n",
       "      <th>hasSplits</th>\n",
       "      <th>elevationCorrected</th>\n",
       "      <th>atpActivity</th>\n",
       "      <th>purposeful</th>\n",
       "      <th>favorite</th>\n",
       "      <th>pr</th>\n",
       "      <th>autoCalcCalories</th>\n",
       "      <th>parent</th>\n",
       "      <th>decoDive</th>\n",
       "    </tr>\n",
       "  </thead>\n",
       "  <tbody>\n",
       "    <tr>\n",
       "      <th>0</th>\n",
       "      <td>5163882089</td>\n",
       "      <td>Vilnius Running</td>\n",
       "      <td>NaN</td>\n",
       "      <td>2020-06-29 20:04:13</td>\n",
       "      <td>2020-06-29 17:04:13</td>\n",
       "      <td>{'typeId': 1, 'typeKey': 'running', 'parentTyp...</td>\n",
       "      <td>{'typeId': 9, 'typeKey': 'uncategorized', 'sor...</td>\n",
       "      <td>NaN</td>\n",
       "      <td>NaN</td>\n",
       "      <td>5724.700195</td>\n",
       "      <td>...</td>\n",
       "      <td>[]</td>\n",
       "      <td>False</td>\n",
       "      <td>False</td>\n",
       "      <td>False</td>\n",
       "      <td>False</td>\n",
       "      <td>False</td>\n",
       "      <td>False</td>\n",
       "      <td>False</td>\n",
       "      <td>False</td>\n",
       "      <td>NaN</td>\n",
       "    </tr>\n",
       "    <tr>\n",
       "      <th>1</th>\n",
       "      <td>5151705793</td>\n",
       "      <td>Pastrevys Running</td>\n",
       "      <td>NaN</td>\n",
       "      <td>2020-06-27 11:37:17</td>\n",
       "      <td>2020-06-27 08:37:17</td>\n",
       "      <td>{'typeId': 1, 'typeKey': 'running', 'parentTyp...</td>\n",
       "      <td>{'typeId': 9, 'typeKey': 'uncategorized', 'sor...</td>\n",
       "      <td>NaN</td>\n",
       "      <td>NaN</td>\n",
       "      <td>10063.629883</td>\n",
       "      <td>...</td>\n",
       "      <td>[]</td>\n",
       "      <td>False</td>\n",
       "      <td>False</td>\n",
       "      <td>False</td>\n",
       "      <td>False</td>\n",
       "      <td>False</td>\n",
       "      <td>False</td>\n",
       "      <td>False</td>\n",
       "      <td>False</td>\n",
       "      <td>NaN</td>\n",
       "    </tr>\n",
       "    <tr>\n",
       "      <th>2</th>\n",
       "      <td>5148742644</td>\n",
       "      <td>Elektrenai Open Water Swimming</td>\n",
       "      <td>NaN</td>\n",
       "      <td>2020-06-26 19:52:44</td>\n",
       "      <td>2020-06-26 16:52:44</td>\n",
       "      <td>{'typeId': 28, 'typeKey': 'open_water_swimming...</td>\n",
       "      <td>{'typeId': 9, 'typeKey': 'uncategorized', 'sor...</td>\n",
       "      <td>NaN</td>\n",
       "      <td>NaN</td>\n",
       "      <td>31.990000</td>\n",
       "      <td>...</td>\n",
       "      <td>[]</td>\n",
       "      <td>False</td>\n",
       "      <td>False</td>\n",
       "      <td>False</td>\n",
       "      <td>False</td>\n",
       "      <td>False</td>\n",
       "      <td>False</td>\n",
       "      <td>False</td>\n",
       "      <td>False</td>\n",
       "      <td>NaN</td>\n",
       "    </tr>\n",
       "    <tr>\n",
       "      <th>3</th>\n",
       "      <td>5148054776</td>\n",
       "      <td>Vilnius Cycling</td>\n",
       "      <td>NaN</td>\n",
       "      <td>2020-06-26 16:39:53</td>\n",
       "      <td>2020-06-26 13:39:53</td>\n",
       "      <td>{'typeId': 2, 'typeKey': 'cycling', 'parentTyp...</td>\n",
       "      <td>{'typeId': 9, 'typeKey': 'uncategorized', 'sor...</td>\n",
       "      <td>NaN</td>\n",
       "      <td>NaN</td>\n",
       "      <td>7262.879883</td>\n",
       "      <td>...</td>\n",
       "      <td>[]</td>\n",
       "      <td>False</td>\n",
       "      <td>False</td>\n",
       "      <td>False</td>\n",
       "      <td>False</td>\n",
       "      <td>False</td>\n",
       "      <td>False</td>\n",
       "      <td>False</td>\n",
       "      <td>False</td>\n",
       "      <td>NaN</td>\n",
       "    </tr>\n",
       "    <tr>\n",
       "      <th>4</th>\n",
       "      <td>5148054686</td>\n",
       "      <td>Vilnius Running</td>\n",
       "      <td>NaN</td>\n",
       "      <td>2020-06-26 16:04:47</td>\n",
       "      <td>2020-06-26 13:04:47</td>\n",
       "      <td>{'typeId': 1, 'typeKey': 'running', 'parentTyp...</td>\n",
       "      <td>{'typeId': 9, 'typeKey': 'uncategorized', 'sor...</td>\n",
       "      <td>NaN</td>\n",
       "      <td>NaN</td>\n",
       "      <td>5137.410156</td>\n",
       "      <td>...</td>\n",
       "      <td>[]</td>\n",
       "      <td>False</td>\n",
       "      <td>False</td>\n",
       "      <td>False</td>\n",
       "      <td>False</td>\n",
       "      <td>False</td>\n",
       "      <td>False</td>\n",
       "      <td>False</td>\n",
       "      <td>False</td>\n",
       "      <td>NaN</td>\n",
       "    </tr>\n",
       "  </tbody>\n",
       "</table>\n",
       "<p>5 rows × 172 columns</p>\n",
       "</div>"
      ],
      "text/plain": [
       "   activityId                    activityName  description  \\\n",
       "0  5163882089                 Vilnius Running          NaN   \n",
       "1  5151705793               Pastrevys Running          NaN   \n",
       "2  5148742644  Elektrenai Open Water Swimming          NaN   \n",
       "3  5148054776                 Vilnius Cycling          NaN   \n",
       "4  5148054686                 Vilnius Running          NaN   \n",
       "\n",
       "       startTimeLocal        startTimeGMT  \\\n",
       "0 2020-06-29 20:04:13 2020-06-29 17:04:13   \n",
       "1 2020-06-27 11:37:17 2020-06-27 08:37:17   \n",
       "2 2020-06-26 19:52:44 2020-06-26 16:52:44   \n",
       "3 2020-06-26 16:39:53 2020-06-26 13:39:53   \n",
       "4 2020-06-26 16:04:47 2020-06-26 13:04:47   \n",
       "\n",
       "                                        activityType  \\\n",
       "0  {'typeId': 1, 'typeKey': 'running', 'parentTyp...   \n",
       "1  {'typeId': 1, 'typeKey': 'running', 'parentTyp...   \n",
       "2  {'typeId': 28, 'typeKey': 'open_water_swimming...   \n",
       "3  {'typeId': 2, 'typeKey': 'cycling', 'parentTyp...   \n",
       "4  {'typeId': 1, 'typeKey': 'running', 'parentTyp...   \n",
       "\n",
       "                                           eventType  comments  parentId  \\\n",
       "0  {'typeId': 9, 'typeKey': 'uncategorized', 'sor...       NaN       NaN   \n",
       "1  {'typeId': 9, 'typeKey': 'uncategorized', 'sor...       NaN       NaN   \n",
       "2  {'typeId': 9, 'typeKey': 'uncategorized', 'sor...       NaN       NaN   \n",
       "3  {'typeId': 9, 'typeKey': 'uncategorized', 'sor...       NaN       NaN   \n",
       "4  {'typeId': 9, 'typeKey': 'uncategorized', 'sor...       NaN       NaN   \n",
       "\n",
       "       distance  ...  splitSummaries  hasSplits  elevationCorrected  \\\n",
       "0   5724.700195  ...              []      False               False   \n",
       "1  10063.629883  ...              []      False               False   \n",
       "2     31.990000  ...              []      False               False   \n",
       "3   7262.879883  ...              []      False               False   \n",
       "4   5137.410156  ...              []      False               False   \n",
       "\n",
       "   atpActivity  purposeful  favorite     pr  autoCalcCalories  parent  \\\n",
       "0        False       False     False  False             False   False   \n",
       "1        False       False     False  False             False   False   \n",
       "2        False       False     False  False             False   False   \n",
       "3        False       False     False  False             False   False   \n",
       "4        False       False     False  False             False   False   \n",
       "\n",
       "   decoDive  \n",
       "0       NaN  \n",
       "1       NaN  \n",
       "2       NaN  \n",
       "3       NaN  \n",
       "4       NaN  \n",
       "\n",
       "[5 rows x 172 columns]"
      ]
     },
     "execution_count": 8,
     "metadata": {},
     "output_type": "execute_result"
    },
    {
     "data": {
      "application/javascript": [
       "\n",
       "            setTimeout(function() {\n",
       "                var nbb_cell_id = 8;\n",
       "                var nbb_unformatted_code = \"activities_path = \\\"activity_test.csv\\\"\\nactivities_df = pd.read_csv(\\n    activities_path,\\n    parse_dates=[\\\"startTimeLocal\\\", \\\"startTimeGMT\\\"],\\n    index_col=\\\"Unnamed: 0\\\",\\n)\\nactivities_df.dropna(subset=[\\\"startLongitude\\\", \\\"startLatitude\\\"], inplace=True)\\n\\nactivities_df.head()\";\n",
       "                var nbb_formatted_code = \"activities_path = \\\"activity_test.csv\\\"\\nactivities_df = pd.read_csv(\\n    activities_path,\\n    parse_dates=[\\\"startTimeLocal\\\", \\\"startTimeGMT\\\"],\\n    index_col=\\\"Unnamed: 0\\\",\\n)\\nactivities_df.dropna(subset=[\\\"startLongitude\\\", \\\"startLatitude\\\"], inplace=True)\\n\\nactivities_df.head()\";\n",
       "                var nbb_cells = Jupyter.notebook.get_cells();\n",
       "                for (var i = 0; i < nbb_cells.length; ++i) {\n",
       "                    if (nbb_cells[i].input_prompt_number == nbb_cell_id) {\n",
       "                        if (nbb_cells[i].get_text() == nbb_unformatted_code) {\n",
       "                             nbb_cells[i].set_text(nbb_formatted_code);\n",
       "                        }\n",
       "                        break;\n",
       "                    }\n",
       "                }\n",
       "            }, 500);\n",
       "            "
      ],
      "text/plain": [
       "<IPython.core.display.Javascript object>"
      ]
     },
     "metadata": {},
     "output_type": "display_data"
    }
   ],
   "source": [
    "activities_path = \"activity_test.csv\"\n",
    "activities_df = pd.read_csv(\n",
    "    activities_path,\n",
    "    parse_dates=[\"startTimeLocal\", \"startTimeGMT\"],\n",
    "    index_col=\"Unnamed: 0\",\n",
    ")\n",
    "activities_df.dropna(subset=[\"startLongitude\", \"startLatitude\"], inplace=True)\n",
    "\n",
    "activities_df.head()"
   ]
  },
  {
   "cell_type": "markdown",
   "metadata": {},
   "source": [
    "## Active and non-active days dataset\n",
    "Active days are days, when sport activity is recorded, and the rest days are non-active."
   ]
  },
  {
   "cell_type": "code",
   "execution_count": 9,
   "metadata": {
    "scrolled": true
   },
   "outputs": [
    {
     "data": {
      "text/html": [
       "<div>\n",
       "<style scoped>\n",
       "    .dataframe tbody tr th:only-of-type {\n",
       "        vertical-align: middle;\n",
       "    }\n",
       "\n",
       "    .dataframe tbody tr th {\n",
       "        vertical-align: top;\n",
       "    }\n",
       "\n",
       "    .dataframe thead th {\n",
       "        text-align: right;\n",
       "    }\n",
       "</style>\n",
       "<table border=\"1\" class=\"dataframe\">\n",
       "  <thead>\n",
       "    <tr style=\"text-align: right;\">\n",
       "      <th></th>\n",
       "      <th>2019-08-31</th>\n",
       "      <th>2019-09-01</th>\n",
       "      <th>2019-09-04</th>\n",
       "      <th>2019-09-08</th>\n",
       "      <th>2019-09-10</th>\n",
       "      <th>2019-09-11</th>\n",
       "      <th>2019-09-12</th>\n",
       "      <th>2019-09-16</th>\n",
       "      <th>2019-09-19</th>\n",
       "      <th>2019-09-21</th>\n",
       "      <th>...</th>\n",
       "      <th>2020-06-12</th>\n",
       "      <th>2020-06-14</th>\n",
       "      <th>2020-06-20</th>\n",
       "      <th>2020-06-21</th>\n",
       "      <th>2020-06-22</th>\n",
       "      <th>2020-06-23</th>\n",
       "      <th>2020-06-24</th>\n",
       "      <th>2020-06-26</th>\n",
       "      <th>2020-06-27</th>\n",
       "      <th>2020-06-29</th>\n",
       "    </tr>\n",
       "    <tr>\n",
       "      <th>time</th>\n",
       "      <th></th>\n",
       "      <th></th>\n",
       "      <th></th>\n",
       "      <th></th>\n",
       "      <th></th>\n",
       "      <th></th>\n",
       "      <th></th>\n",
       "      <th></th>\n",
       "      <th></th>\n",
       "      <th></th>\n",
       "      <th></th>\n",
       "      <th></th>\n",
       "      <th></th>\n",
       "      <th></th>\n",
       "      <th></th>\n",
       "      <th></th>\n",
       "      <th></th>\n",
       "      <th></th>\n",
       "      <th></th>\n",
       "      <th></th>\n",
       "      <th></th>\n",
       "    </tr>\n",
       "  </thead>\n",
       "  <tbody>\n",
       "    <tr>\n",
       "      <th>00:00:00</th>\n",
       "      <td>75.0</td>\n",
       "      <td>71.0</td>\n",
       "      <td>62.0</td>\n",
       "      <td>99.0</td>\n",
       "      <td>66.0</td>\n",
       "      <td>66.0</td>\n",
       "      <td>76.0</td>\n",
       "      <td>64.0</td>\n",
       "      <td>64.0</td>\n",
       "      <td>91.0</td>\n",
       "      <td>...</td>\n",
       "      <td>58.0</td>\n",
       "      <td>69.0</td>\n",
       "      <td>87.0</td>\n",
       "      <td>87.0</td>\n",
       "      <td>60.0</td>\n",
       "      <td>51.0</td>\n",
       "      <td>58.0</td>\n",
       "      <td>69.0</td>\n",
       "      <td>64.0</td>\n",
       "      <td>57.0</td>\n",
       "    </tr>\n",
       "    <tr>\n",
       "      <th>00:02:00</th>\n",
       "      <td>70.0</td>\n",
       "      <td>71.0</td>\n",
       "      <td>62.0</td>\n",
       "      <td>96.0</td>\n",
       "      <td>71.0</td>\n",
       "      <td>71.0</td>\n",
       "      <td>76.0</td>\n",
       "      <td>65.0</td>\n",
       "      <td>64.0</td>\n",
       "      <td>95.0</td>\n",
       "      <td>...</td>\n",
       "      <td>58.0</td>\n",
       "      <td>65.0</td>\n",
       "      <td>94.0</td>\n",
       "      <td>94.0</td>\n",
       "      <td>60.0</td>\n",
       "      <td>54.0</td>\n",
       "      <td>57.0</td>\n",
       "      <td>61.0</td>\n",
       "      <td>65.0</td>\n",
       "      <td>56.0</td>\n",
       "    </tr>\n",
       "    <tr>\n",
       "      <th>00:04:00</th>\n",
       "      <td>72.0</td>\n",
       "      <td>70.0</td>\n",
       "      <td>62.0</td>\n",
       "      <td>88.0</td>\n",
       "      <td>61.0</td>\n",
       "      <td>61.0</td>\n",
       "      <td>77.0</td>\n",
       "      <td>64.0</td>\n",
       "      <td>64.0</td>\n",
       "      <td>96.0</td>\n",
       "      <td>...</td>\n",
       "      <td>58.0</td>\n",
       "      <td>77.0</td>\n",
       "      <td>114.0</td>\n",
       "      <td>114.0</td>\n",
       "      <td>60.0</td>\n",
       "      <td>51.0</td>\n",
       "      <td>56.0</td>\n",
       "      <td>64.0</td>\n",
       "      <td>61.0</td>\n",
       "      <td>57.0</td>\n",
       "    </tr>\n",
       "    <tr>\n",
       "      <th>00:06:00</th>\n",
       "      <td>80.0</td>\n",
       "      <td>72.0</td>\n",
       "      <td>58.0</td>\n",
       "      <td>78.0</td>\n",
       "      <td>61.0</td>\n",
       "      <td>61.0</td>\n",
       "      <td>77.0</td>\n",
       "      <td>66.0</td>\n",
       "      <td>66.0</td>\n",
       "      <td>92.0</td>\n",
       "      <td>...</td>\n",
       "      <td>60.0</td>\n",
       "      <td>90.0</td>\n",
       "      <td>112.0</td>\n",
       "      <td>112.0</td>\n",
       "      <td>60.0</td>\n",
       "      <td>50.0</td>\n",
       "      <td>58.0</td>\n",
       "      <td>70.0</td>\n",
       "      <td>63.0</td>\n",
       "      <td>57.0</td>\n",
       "    </tr>\n",
       "    <tr>\n",
       "      <th>00:08:00</th>\n",
       "      <td>73.0</td>\n",
       "      <td>97.0</td>\n",
       "      <td>55.0</td>\n",
       "      <td>69.0</td>\n",
       "      <td>62.0</td>\n",
       "      <td>62.0</td>\n",
       "      <td>79.0</td>\n",
       "      <td>66.0</td>\n",
       "      <td>65.0</td>\n",
       "      <td>69.0</td>\n",
       "      <td>...</td>\n",
       "      <td>62.0</td>\n",
       "      <td>75.0</td>\n",
       "      <td>94.0</td>\n",
       "      <td>94.0</td>\n",
       "      <td>61.0</td>\n",
       "      <td>53.0</td>\n",
       "      <td>58.0</td>\n",
       "      <td>61.0</td>\n",
       "      <td>59.0</td>\n",
       "      <td>58.0</td>\n",
       "    </tr>\n",
       "  </tbody>\n",
       "</table>\n",
       "<p>5 rows × 116 columns</p>\n",
       "</div>"
      ],
      "text/plain": [
       "          2019-08-31  2019-09-01  2019-09-04  2019-09-08  2019-09-10  \\\n",
       "time                                                                   \n",
       "00:00:00        75.0        71.0        62.0        99.0        66.0   \n",
       "00:02:00        70.0        71.0        62.0        96.0        71.0   \n",
       "00:04:00        72.0        70.0        62.0        88.0        61.0   \n",
       "00:06:00        80.0        72.0        58.0        78.0        61.0   \n",
       "00:08:00        73.0        97.0        55.0        69.0        62.0   \n",
       "\n",
       "          2019-09-11  2019-09-12  2019-09-16  2019-09-19  2019-09-21  ...  \\\n",
       "time                                                                  ...   \n",
       "00:00:00        66.0        76.0        64.0        64.0        91.0  ...   \n",
       "00:02:00        71.0        76.0        65.0        64.0        95.0  ...   \n",
       "00:04:00        61.0        77.0        64.0        64.0        96.0  ...   \n",
       "00:06:00        61.0        77.0        66.0        66.0        92.0  ...   \n",
       "00:08:00        62.0        79.0        66.0        65.0        69.0  ...   \n",
       "\n",
       "          2020-06-12  2020-06-14  2020-06-20  2020-06-21  2020-06-22  \\\n",
       "time                                                                   \n",
       "00:00:00        58.0        69.0        87.0        87.0        60.0   \n",
       "00:02:00        58.0        65.0        94.0        94.0        60.0   \n",
       "00:04:00        58.0        77.0       114.0       114.0        60.0   \n",
       "00:06:00        60.0        90.0       112.0       112.0        60.0   \n",
       "00:08:00        62.0        75.0        94.0        94.0        61.0   \n",
       "\n",
       "          2020-06-23  2020-06-24  2020-06-26  2020-06-27  2020-06-29  \n",
       "time                                                                  \n",
       "00:00:00        51.0        58.0        69.0        64.0        57.0  \n",
       "00:02:00        54.0        57.0        61.0        65.0        56.0  \n",
       "00:04:00        51.0        56.0        64.0        61.0        57.0  \n",
       "00:06:00        50.0        58.0        70.0        63.0        57.0  \n",
       "00:08:00        53.0        58.0        61.0        59.0        58.0  \n",
       "\n",
       "[5 rows x 116 columns]"
      ]
     },
     "execution_count": 9,
     "metadata": {},
     "output_type": "execute_result"
    },
    {
     "data": {
      "application/javascript": [
       "\n",
       "            setTimeout(function() {\n",
       "                var nbb_cell_id = 9;\n",
       "                var nbb_unformatted_code = \"active_days = activities_df[\\\"startTimeLocal\\\"].dt.date.astype(\\\"str\\\")\\nactive_heart_rate = heart_rate_df.loc[:, heart_rate_df.columns.isin(active_days)]\\nactive_heart_rate.head()\";\n",
       "                var nbb_formatted_code = \"active_days = activities_df[\\\"startTimeLocal\\\"].dt.date.astype(\\\"str\\\")\\nactive_heart_rate = heart_rate_df.loc[:, heart_rate_df.columns.isin(active_days)]\\nactive_heart_rate.head()\";\n",
       "                var nbb_cells = Jupyter.notebook.get_cells();\n",
       "                for (var i = 0; i < nbb_cells.length; ++i) {\n",
       "                    if (nbb_cells[i].input_prompt_number == nbb_cell_id) {\n",
       "                        if (nbb_cells[i].get_text() == nbb_unformatted_code) {\n",
       "                             nbb_cells[i].set_text(nbb_formatted_code);\n",
       "                        }\n",
       "                        break;\n",
       "                    }\n",
       "                }\n",
       "            }, 500);\n",
       "            "
      ],
      "text/plain": [
       "<IPython.core.display.Javascript object>"
      ]
     },
     "metadata": {},
     "output_type": "display_data"
    }
   ],
   "source": [
    "active_days = activities_df[\"startTimeLocal\"].dt.date.astype(\"str\")\n",
    "active_heart_rate = heart_rate_df.loc[:, heart_rate_df.columns.isin(active_days)]\n",
    "active_heart_rate.head()"
   ]
  },
  {
   "cell_type": "code",
   "execution_count": 11,
   "metadata": {},
   "outputs": [
    {
     "data": {
      "text/html": [
       "<div>\n",
       "<style scoped>\n",
       "    .dataframe tbody tr th:only-of-type {\n",
       "        vertical-align: middle;\n",
       "    }\n",
       "\n",
       "    .dataframe tbody tr th {\n",
       "        vertical-align: top;\n",
       "    }\n",
       "\n",
       "    .dataframe thead th {\n",
       "        text-align: right;\n",
       "    }\n",
       "</style>\n",
       "<table border=\"1\" class=\"dataframe\">\n",
       "  <thead>\n",
       "    <tr style=\"text-align: right;\">\n",
       "      <th></th>\n",
       "      <th>2019-09-02</th>\n",
       "      <th>2019-09-03</th>\n",
       "      <th>2019-09-05</th>\n",
       "      <th>2019-09-06</th>\n",
       "      <th>2019-09-07</th>\n",
       "      <th>2019-09-09</th>\n",
       "      <th>2019-09-13</th>\n",
       "      <th>2019-09-14</th>\n",
       "      <th>2019-09-15</th>\n",
       "      <th>2019-09-17</th>\n",
       "      <th>...</th>\n",
       "      <th>2020-07-11</th>\n",
       "      <th>2020-07-12</th>\n",
       "      <th>2020-07-13</th>\n",
       "      <th>2020-07-14</th>\n",
       "      <th>2020-07-15</th>\n",
       "      <th>2020-07-16</th>\n",
       "      <th>2020-07-17</th>\n",
       "      <th>2020-07-18</th>\n",
       "      <th>2020-07-19</th>\n",
       "      <th>2020-07-20</th>\n",
       "    </tr>\n",
       "    <tr>\n",
       "      <th>time</th>\n",
       "      <th></th>\n",
       "      <th></th>\n",
       "      <th></th>\n",
       "      <th></th>\n",
       "      <th></th>\n",
       "      <th></th>\n",
       "      <th></th>\n",
       "      <th></th>\n",
       "      <th></th>\n",
       "      <th></th>\n",
       "      <th></th>\n",
       "      <th></th>\n",
       "      <th></th>\n",
       "      <th></th>\n",
       "      <th></th>\n",
       "      <th></th>\n",
       "      <th></th>\n",
       "      <th></th>\n",
       "      <th></th>\n",
       "      <th></th>\n",
       "      <th></th>\n",
       "    </tr>\n",
       "  </thead>\n",
       "  <tbody>\n",
       "    <tr>\n",
       "      <th>00:00:00</th>\n",
       "      <td>71.0</td>\n",
       "      <td>71.0</td>\n",
       "      <td>56.0</td>\n",
       "      <td>56.0</td>\n",
       "      <td>56.0</td>\n",
       "      <td>55.0</td>\n",
       "      <td>76.0</td>\n",
       "      <td>66.0</td>\n",
       "      <td>65.0</td>\n",
       "      <td>64.0</td>\n",
       "      <td>...</td>\n",
       "      <td>72.0</td>\n",
       "      <td>72.0</td>\n",
       "      <td>58.0</td>\n",
       "      <td>68.0</td>\n",
       "      <td>67.0</td>\n",
       "      <td>72.0</td>\n",
       "      <td>96.0</td>\n",
       "      <td>53.0</td>\n",
       "      <td>77.0</td>\n",
       "      <td>NaN</td>\n",
       "    </tr>\n",
       "    <tr>\n",
       "      <th>00:02:00</th>\n",
       "      <td>77.0</td>\n",
       "      <td>77.0</td>\n",
       "      <td>58.0</td>\n",
       "      <td>55.0</td>\n",
       "      <td>58.0</td>\n",
       "      <td>55.0</td>\n",
       "      <td>76.0</td>\n",
       "      <td>66.0</td>\n",
       "      <td>65.0</td>\n",
       "      <td>64.0</td>\n",
       "      <td>...</td>\n",
       "      <td>72.0</td>\n",
       "      <td>72.0</td>\n",
       "      <td>58.0</td>\n",
       "      <td>67.0</td>\n",
       "      <td>65.0</td>\n",
       "      <td>72.0</td>\n",
       "      <td>96.0</td>\n",
       "      <td>52.0</td>\n",
       "      <td>78.0</td>\n",
       "      <td>NaN</td>\n",
       "    </tr>\n",
       "    <tr>\n",
       "      <th>00:04:00</th>\n",
       "      <td>66.0</td>\n",
       "      <td>66.0</td>\n",
       "      <td>58.0</td>\n",
       "      <td>55.0</td>\n",
       "      <td>61.0</td>\n",
       "      <td>56.0</td>\n",
       "      <td>77.0</td>\n",
       "      <td>57.0</td>\n",
       "      <td>65.0</td>\n",
       "      <td>64.0</td>\n",
       "      <td>...</td>\n",
       "      <td>71.0</td>\n",
       "      <td>71.0</td>\n",
       "      <td>58.0</td>\n",
       "      <td>66.0</td>\n",
       "      <td>67.0</td>\n",
       "      <td>74.0</td>\n",
       "      <td>82.0</td>\n",
       "      <td>60.0</td>\n",
       "      <td>77.0</td>\n",
       "      <td>NaN</td>\n",
       "    </tr>\n",
       "    <tr>\n",
       "      <th>00:06:00</th>\n",
       "      <td>60.0</td>\n",
       "      <td>60.0</td>\n",
       "      <td>57.0</td>\n",
       "      <td>56.0</td>\n",
       "      <td>59.0</td>\n",
       "      <td>56.0</td>\n",
       "      <td>77.0</td>\n",
       "      <td>59.0</td>\n",
       "      <td>65.0</td>\n",
       "      <td>66.0</td>\n",
       "      <td>...</td>\n",
       "      <td>73.0</td>\n",
       "      <td>73.0</td>\n",
       "      <td>58.0</td>\n",
       "      <td>63.0</td>\n",
       "      <td>62.0</td>\n",
       "      <td>79.0</td>\n",
       "      <td>83.0</td>\n",
       "      <td>60.0</td>\n",
       "      <td>78.0</td>\n",
       "      <td>NaN</td>\n",
       "    </tr>\n",
       "    <tr>\n",
       "      <th>00:08:00</th>\n",
       "      <td>54.0</td>\n",
       "      <td>54.0</td>\n",
       "      <td>57.0</td>\n",
       "      <td>56.0</td>\n",
       "      <td>59.0</td>\n",
       "      <td>56.0</td>\n",
       "      <td>79.0</td>\n",
       "      <td>64.0</td>\n",
       "      <td>65.0</td>\n",
       "      <td>65.0</td>\n",
       "      <td>...</td>\n",
       "      <td>72.0</td>\n",
       "      <td>72.0</td>\n",
       "      <td>57.0</td>\n",
       "      <td>64.0</td>\n",
       "      <td>64.0</td>\n",
       "      <td>69.0</td>\n",
       "      <td>101.0</td>\n",
       "      <td>64.0</td>\n",
       "      <td>79.0</td>\n",
       "      <td>NaN</td>\n",
       "    </tr>\n",
       "  </tbody>\n",
       "</table>\n",
       "<p>5 rows × 208 columns</p>\n",
       "</div>"
      ],
      "text/plain": [
       "          2019-09-02  2019-09-03  2019-09-05  2019-09-06  2019-09-07  \\\n",
       "time                                                                   \n",
       "00:00:00        71.0        71.0        56.0        56.0        56.0   \n",
       "00:02:00        77.0        77.0        58.0        55.0        58.0   \n",
       "00:04:00        66.0        66.0        58.0        55.0        61.0   \n",
       "00:06:00        60.0        60.0        57.0        56.0        59.0   \n",
       "00:08:00        54.0        54.0        57.0        56.0        59.0   \n",
       "\n",
       "          2019-09-09  2019-09-13  2019-09-14  2019-09-15  2019-09-17  ...  \\\n",
       "time                                                                  ...   \n",
       "00:00:00        55.0        76.0        66.0        65.0        64.0  ...   \n",
       "00:02:00        55.0        76.0        66.0        65.0        64.0  ...   \n",
       "00:04:00        56.0        77.0        57.0        65.0        64.0  ...   \n",
       "00:06:00        56.0        77.0        59.0        65.0        66.0  ...   \n",
       "00:08:00        56.0        79.0        64.0        65.0        65.0  ...   \n",
       "\n",
       "          2020-07-11  2020-07-12  2020-07-13  2020-07-14  2020-07-15  \\\n",
       "time                                                                   \n",
       "00:00:00        72.0        72.0        58.0        68.0        67.0   \n",
       "00:02:00        72.0        72.0        58.0        67.0        65.0   \n",
       "00:04:00        71.0        71.0        58.0        66.0        67.0   \n",
       "00:06:00        73.0        73.0        58.0        63.0        62.0   \n",
       "00:08:00        72.0        72.0        57.0        64.0        64.0   \n",
       "\n",
       "          2020-07-16  2020-07-17  2020-07-18  2020-07-19  2020-07-20  \n",
       "time                                                                  \n",
       "00:00:00        72.0        96.0        53.0        77.0         NaN  \n",
       "00:02:00        72.0        96.0        52.0        78.0         NaN  \n",
       "00:04:00        74.0        82.0        60.0        77.0         NaN  \n",
       "00:06:00        79.0        83.0        60.0        78.0         NaN  \n",
       "00:08:00        69.0       101.0        64.0        79.0         NaN  \n",
       "\n",
       "[5 rows x 208 columns]"
      ]
     },
     "execution_count": 11,
     "metadata": {},
     "output_type": "execute_result"
    },
    {
     "data": {
      "application/javascript": [
       "\n",
       "            setTimeout(function() {\n",
       "                var nbb_cell_id = 11;\n",
       "                var nbb_unformatted_code = \"non_active_days = heart_rate_df.columns.difference(active_heart_rate.columns)\\nnon_active_heart_rate = heart_rate_df.loc[:, heart_rate_df.columns.isin(non_active_days)]\\nnon_active_heart_rate.head()\";\n",
       "                var nbb_formatted_code = \"non_active_days = heart_rate_df.columns.difference(active_heart_rate.columns)\\nnon_active_heart_rate = heart_rate_df.loc[\\n    :, heart_rate_df.columns.isin(non_active_days)\\n]\\nnon_active_heart_rate.head()\";\n",
       "                var nbb_cells = Jupyter.notebook.get_cells();\n",
       "                for (var i = 0; i < nbb_cells.length; ++i) {\n",
       "                    if (nbb_cells[i].input_prompt_number == nbb_cell_id) {\n",
       "                        if (nbb_cells[i].get_text() == nbb_unformatted_code) {\n",
       "                             nbb_cells[i].set_text(nbb_formatted_code);\n",
       "                        }\n",
       "                        break;\n",
       "                    }\n",
       "                }\n",
       "            }, 500);\n",
       "            "
      ],
      "text/plain": [
       "<IPython.core.display.Javascript object>"
      ]
     },
     "metadata": {},
     "output_type": "display_data"
    }
   ],
   "source": [
    "non_active_days = heart_rate_df.columns.difference(active_heart_rate.columns)\n",
    "non_active_heart_rate = heart_rate_df.loc[\n",
    "    :, heart_rate_df.columns.isin(non_active_days)\n",
    "]\n",
    "non_active_heart_rate.head()"
   ]
  },
  {
   "cell_type": "code",
   "execution_count": 12,
   "metadata": {},
   "outputs": [
    {
     "data": {
      "text/plain": [
       "208"
      ]
     },
     "execution_count": 12,
     "metadata": {},
     "output_type": "execute_result"
    },
    {
     "data": {
      "application/javascript": [
       "\n",
       "            setTimeout(function() {\n",
       "                var nbb_cell_id = 12;\n",
       "                var nbb_unformatted_code = \"len(non_active_days)\";\n",
       "                var nbb_formatted_code = \"len(non_active_days)\";\n",
       "                var nbb_cells = Jupyter.notebook.get_cells();\n",
       "                for (var i = 0; i < nbb_cells.length; ++i) {\n",
       "                    if (nbb_cells[i].input_prompt_number == nbb_cell_id) {\n",
       "                        if (nbb_cells[i].get_text() == nbb_unformatted_code) {\n",
       "                             nbb_cells[i].set_text(nbb_formatted_code);\n",
       "                        }\n",
       "                        break;\n",
       "                    }\n",
       "                }\n",
       "            }, 500);\n",
       "            "
      ],
      "text/plain": [
       "<IPython.core.display.Javascript object>"
      ]
     },
     "metadata": {},
     "output_type": "display_data"
    }
   ],
   "source": [
    "len(non_active_days)"
   ]
  },
  {
   "cell_type": "markdown",
   "metadata": {},
   "source": [
    "## Histograms\n",
    "\n",
    "Heart rate distribution comparision during active and non-active days."
   ]
  },
  {
   "cell_type": "code",
   "execution_count": 13,
   "metadata": {},
   "outputs": [
    {
     "data": {
      "text/plain": [
       "<Figure size 576x396 with 0 Axes>"
      ]
     },
     "metadata": {},
     "output_type": "display_data"
    },
    {
     "data": {
      "image/png": "[encoded data removed]",
      "text/plain": [
       "<Figure size 1728x576 with 2 Axes>"
      ]
     },
     "metadata": {},
     "output_type": "display_data"
    },
    {
     "data": {
      "application/javascript": [
       "\n",
       "            setTimeout(function() {\n",
       "                var nbb_cell_id = 13;\n",
       "                var nbb_unformatted_code = \"plt.figure()\\n\\nfig, axis = plt.subplots(1, 2, figsize=(24, 8), sharey=True, frameon=False)\\nsns.despine(left=True)\\naxis[0].set_title(\\\"Heart rate histogram for active days\\\", fontsize=20)\\naxis[1].set_title(\\\"Heart rate histogram for non-active days\\\", fontsize=20)\\naxis[0].set_xlabel(\\\"Heart rate\\\", fontsize=20)\\naxis[1].set_xlabel(\\\"Heart rate\\\", fontsize=20)\\naxis[0].set_ylabel(\\\"Frequency, %\\\", fontsize=20)\\n\\nsns.distplot(\\n    active_heart_rate,\\n    hist_kws={\\\"color\\\": \\\"Teal\\\"},\\n    kde_kws={\\\"color\\\": \\\"Navy\\\"},\\n    ax=axis[0],\\n    bins=30,\\n)\\nsns.distplot(\\n    non_active_heart_rate,\\n    hist_kws={\\\"color\\\": \\\"Teal\\\"},\\n    kde_kws={\\\"color\\\": \\\"Navy\\\"},\\n    ax=axis[1],\\n    bins=30,\\n)\\n\\nplt.tight_layout\\n\\nplt.show()\";\n",
       "                var nbb_formatted_code = \"plt.figure()\\n\\nfig, axis = plt.subplots(1, 2, figsize=(24, 8), sharey=True, frameon=False)\\nsns.despine(left=True)\\naxis[0].set_title(\\\"Heart rate histogram for active days\\\", fontsize=20)\\naxis[1].set_title(\\\"Heart rate histogram for non-active days\\\", fontsize=20)\\naxis[0].set_xlabel(\\\"Heart rate\\\", fontsize=20)\\naxis[1].set_xlabel(\\\"Heart rate\\\", fontsize=20)\\naxis[0].set_ylabel(\\\"Frequency, %\\\", fontsize=20)\\n\\nsns.distplot(\\n    active_heart_rate,\\n    hist_kws={\\\"color\\\": \\\"Teal\\\"},\\n    kde_kws={\\\"color\\\": \\\"Navy\\\"},\\n    ax=axis[0],\\n    bins=30,\\n)\\nsns.distplot(\\n    non_active_heart_rate,\\n    hist_kws={\\\"color\\\": \\\"Teal\\\"},\\n    kde_kws={\\\"color\\\": \\\"Navy\\\"},\\n    ax=axis[1],\\n    bins=30,\\n)\\n\\nplt.tight_layout\\n\\nplt.show()\";\n",
       "                var nbb_cells = Jupyter.notebook.get_cells();\n",
       "                for (var i = 0; i < nbb_cells.length; ++i) {\n",
       "                    if (nbb_cells[i].input_prompt_number == nbb_cell_id) {\n",
       "                        if (nbb_cells[i].get_text() == nbb_unformatted_code) {\n",
       "                             nbb_cells[i].set_text(nbb_formatted_code);\n",
       "                        }\n",
       "                        break;\n",
       "                    }\n",
       "                }\n",
       "            }, 500);\n",
       "            "
      ],
      "text/plain": [
       "<IPython.core.display.Javascript object>"
      ]
     },
     "metadata": {},
     "output_type": "display_data"
    }
   ],
   "source": [
    "plt.figure()\n",
    "\n",
    "fig, axis = plt.subplots(1, 2, figsize=(24, 8), sharey=True, frameon=False)\n",
    "sns.despine(left=True)\n",
    "axis[0].set_title(\"Heart rate histogram for active days\", fontsize=20)\n",
    "axis[1].set_title(\"Heart rate histogram for non-active days\", fontsize=20)\n",
    "axis[0].set_xlabel(\"Heart rate\", fontsize=20)\n",
    "axis[1].set_xlabel(\"Heart rate\", fontsize=20)\n",
    "axis[0].set_ylabel(\"Frequency, %\", fontsize=20)\n",
    "\n",
    "sns.distplot(\n",
    "    active_heart_rate,\n",
    "    hist_kws={\"color\": \"Teal\"},\n",
    "    kde_kws={\"color\": \"Navy\"},\n",
    "    ax=axis[0],\n",
    "    bins=30,\n",
    ")\n",
    "sns.distplot(\n",
    "    non_active_heart_rate,\n",
    "    hist_kws={\"color\": \"Teal\"},\n",
    "    kde_kws={\"color\": \"Navy\"},\n",
    "    ax=axis[1],\n",
    "    bins=30,\n",
    ")\n",
    "\n",
    "plt.tight_layout\n",
    "\n",
    "plt.show()"
   ]
  },
  {
   "cell_type": "markdown",
   "metadata": {},
   "source": [
    "- Heart rate (HR) histograms contain 24 hours heart rate observations. Active days HR dataset has 134 days, non-active days HR dataset has 208 days of observation.\n",
    "\n",
    "- The most frequent HR interval for active days is between 73 and 78 bmp, the second frequent - between 62 and 68 bmp. Two most frequent histograms columns are not beside each other (as you would expect that in the normal distribution case) and the histogram has a spike on it's right side. \n",
    "\n",
    "- The most frequent HR interval for non-active days is between 64 and 69 bmp, the second frequent - between 69 and 74 bmp. Non-active days has lower the most frequent HR values than actives days and this indicates that **bmp remains higher for some time after activity**.\n",
    "\n",
    "- Both distributions do not look like normal distribution since they are asimetrical and have fat tail on the right side. This indicates that there is more higher HR bmp values than the average. This result is expected for HR bmp histogram because bpm cannot fall to zero. The average HR bpm for active days is **78**, for non-active days - **74**. The minimum HR bmp value is **31**, the maximum -  **188** (achieved during Vilniaus maratonas race). So asymmetry of distribution is rational and HR bmp can fall down by 60 % and can jump up to 240 % from the average.\n",
    "\n",
    "- Asymmetry of active days HR are stronger than non-active since higher HR bmp values are common during activity. Active days HR histogram looks like a multiple distribution - one for activity time and the other for the rest time. \n"
   ]
  },
  {
   "cell_type": "code",
   "execution_count": 14,
   "metadata": {},
   "outputs": [
    {
     "data": {
      "text/plain": [
       "<Figure size 576x396 with 0 Axes>"
      ]
     },
     "metadata": {},
     "output_type": "display_data"
    },
    {
     "data": {
      "image/png": "[encoded data removed]",
      "text/plain": [
       "<Figure size 1728x576 with 2 Axes>"
      ]
     },
     "metadata": {},
     "output_type": "display_data"
    },
    {
     "data": {
      "application/javascript": [
       "\n",
       "            setTimeout(function() {\n",
       "                var nbb_cell_id = 14;\n",
       "                var nbb_unformatted_code = \"plt.figure()\\n\\nfig, axis = plt.subplots(1, 2, figsize=(24, 8), sharey=True, frameon=False)\\nsns.despine(left=True)\\naxis[0].set_title(\\\"HR over 135 bmp histogram for active days\\\", fontsize=20)\\naxis[1].set_title(\\\"HR over 135 bmp histogram for non-active days\\\", fontsize=20)\\naxis[0].set_ylabel(\\\"Frequency, %\\\", fontsize=20)\\naxis[0].set_xlabel(\\\"Heart rate\\\", fontsize=20)\\naxis[1].set_xlabel(\\\"Heart rate\\\", fontsize=20)\\n\\nhr_max_active = pd.melt(active_heart_rate)\\nhr_max_active = hr_max_active[hr_max_active[\\\"value\\\"] > 135]\\nplot1 = sns.distplot(hr_max_active[\\\"value\\\"], ax=axis[0], bins=15)\\n\\nhr_max_non_active = pd.melt(non_active_heart_rate)\\nhr_max_non_active = hr_max_non_active[hr_max_non_active[\\\"value\\\"] > 135]\\nsns.distplot(hr_max_non_active[\\\"value\\\"], ax=axis[1], bins=15)\\n\\nmplcursors.cursor(hover=True)\\n\\nplt.tight_layout\\nplt.show()\";\n",
       "                var nbb_formatted_code = \"plt.figure()\\n\\nfig, axis = plt.subplots(1, 2, figsize=(24, 8), sharey=True, frameon=False)\\nsns.despine(left=True)\\naxis[0].set_title(\\\"HR over 135 bmp histogram for active days\\\", fontsize=20)\\naxis[1].set_title(\\\"HR over 135 bmp histogram for non-active days\\\", fontsize=20)\\naxis[0].set_ylabel(\\\"Frequency, %\\\", fontsize=20)\\naxis[0].set_xlabel(\\\"Heart rate\\\", fontsize=20)\\naxis[1].set_xlabel(\\\"Heart rate\\\", fontsize=20)\\n\\nhr_max_active = pd.melt(active_heart_rate)\\nhr_max_active = hr_max_active[hr_max_active[\\\"value\\\"] > 135]\\nplot1 = sns.distplot(hr_max_active[\\\"value\\\"], ax=axis[0], bins=15)\\n\\nhr_max_non_active = pd.melt(non_active_heart_rate)\\nhr_max_non_active = hr_max_non_active[hr_max_non_active[\\\"value\\\"] > 135]\\nsns.distplot(hr_max_non_active[\\\"value\\\"], ax=axis[1], bins=15)\\n\\nmplcursors.cursor(hover=True)\\n\\nplt.tight_layout\\nplt.show()\";\n",
       "                var nbb_cells = Jupyter.notebook.get_cells();\n",
       "                for (var i = 0; i < nbb_cells.length; ++i) {\n",
       "                    if (nbb_cells[i].input_prompt_number == nbb_cell_id) {\n",
       "                        if (nbb_cells[i].get_text() == nbb_unformatted_code) {\n",
       "                             nbb_cells[i].set_text(nbb_formatted_code);\n",
       "                        }\n",
       "                        break;\n",
       "                    }\n",
       "                }\n",
       "            }, 500);\n",
       "            "
      ],
      "text/plain": [
       "<IPython.core.display.Javascript object>"
      ]
     },
     "metadata": {},
     "output_type": "display_data"
    }
   ],
   "source": [
    "plt.figure()\n",
    "\n",
    "fig, axis = plt.subplots(1, 2, figsize=(24, 8), sharey=True, frameon=False)\n",
    "sns.despine(left=True)\n",
    "axis[0].set_title(\"HR over 135 bmp histogram for active days\", fontsize=20)\n",
    "axis[1].set_title(\"HR over 135 bmp histogram for non-active days\", fontsize=20)\n",
    "axis[0].set_ylabel(\"Frequency, %\", fontsize=20)\n",
    "axis[0].set_xlabel(\"Heart rate\", fontsize=20)\n",
    "axis[1].set_xlabel(\"Heart rate\", fontsize=20)\n",
    "\n",
    "hr_max_active = pd.melt(active_heart_rate)\n",
    "hr_max_active = hr_max_active[hr_max_active[\"value\"] > 135]\n",
    "plot1 = sns.distplot(hr_max_active[\"value\"], ax=axis[0], bins=15)\n",
    "\n",
    "hr_max_non_active = pd.melt(non_active_heart_rate)\n",
    "hr_max_non_active = hr_max_non_active[hr_max_non_active[\"value\"] > 135]\n",
    "sns.distplot(hr_max_non_active[\"value\"], ax=axis[1], bins=15)\n",
    "\n",
    "mplcursors.cursor(hover=True)\n",
    "\n",
    "plt.tight_layout\n",
    "plt.show()"
   ]
  },
  {
   "cell_type": "markdown",
   "metadata": {},
   "source": [
    "- Even non-active days have some high HR bmp observations. This can be explained that not all sport activities are recorded by a user. Automatically catched activities do not have activities statistics, so are classified as non-active.\n",
    "- Sport activities that do not require GPS are not recorded by user either.\n",
    "- Active and non-active days HR's distributions looks differently: first one is similar to a bell shape, second one - to a fat tail of a distribution. "
   ]
  },
  {
   "cell_type": "code",
   "execution_count": 16,
   "metadata": {
    "scrolled": true
   },
   "outputs": [
    {
     "data": {
      "text/html": [
       "<div>\n",
       "<style scoped>\n",
       "    .dataframe tbody tr th:only-of-type {\n",
       "        vertical-align: middle;\n",
       "    }\n",
       "\n",
       "    .dataframe tbody tr th {\n",
       "        vertical-align: top;\n",
       "    }\n",
       "\n",
       "    .dataframe thead th {\n",
       "        text-align: right;\n",
       "    }\n",
       "</style>\n",
       "<table border=\"1\" class=\"dataframe\">\n",
       "  <thead>\n",
       "    <tr style=\"text-align: right;\">\n",
       "      <th></th>\n",
       "      <th>0</th>\n",
       "      <th>1</th>\n",
       "      <th>2</th>\n",
       "      <th>3</th>\n",
       "      <th>4</th>\n",
       "      <th>5</th>\n",
       "      <th>6</th>\n",
       "      <th>7</th>\n",
       "      <th>8</th>\n",
       "      <th>9</th>\n",
       "      <th>10</th>\n",
       "      <th>11</th>\n",
       "      <th>12</th>\n",
       "      <th>13</th>\n",
       "      <th>14</th>\n",
       "      <th>15</th>\n",
       "      <th>16</th>\n",
       "      <th>17</th>\n",
       "      <th>18</th>\n",
       "      <th>19</th>\n",
       "      <th>20</th>\n",
       "      <th>21</th>\n",
       "      <th>22</th>\n",
       "      <th>23</th>\n",
       "      <th>24</th>\n",
       "      <th>25</th>\n",
       "      <th>26</th>\n",
       "      <th>27</th>\n",
       "      <th>28</th>\n",
       "      <th>29</th>\n",
       "      <th>30</th>\n",
       "    </tr>\n",
       "  </thead>\n",
       "  <tbody>\n",
       "    <tr>\n",
       "      <th>0</th>\n",
       "      <td>5.0</td>\n",
       "      <td>17.000000</td>\n",
       "      <td>55.000000</td>\n",
       "      <td>199.0</td>\n",
       "      <td>2483.000000</td>\n",
       "      <td>9377.000000</td>\n",
       "      <td>12965.0</td>\n",
       "      <td>12878.000000</td>\n",
       "      <td>13617.000000</td>\n",
       "      <td>9166.0</td>\n",
       "      <td>6705.000000</td>\n",
       "      <td>4632.000000</td>\n",
       "      <td>3499.0</td>\n",
       "      <td>1856.000000</td>\n",
       "      <td>1258.000000</td>\n",
       "      <td>783.0</td>\n",
       "      <td>547.000000</td>\n",
       "      <td>452.000000</td>\n",
       "      <td>239.0</td>\n",
       "      <td>189.000000</td>\n",
       "      <td>202.000000</td>\n",
       "      <td>300.0</td>\n",
       "      <td>463.000000</td>\n",
       "      <td>510.000000</td>\n",
       "      <td>588.0</td>\n",
       "      <td>333.000000</td>\n",
       "      <td>96.000000</td>\n",
       "      <td>42.0</td>\n",
       "      <td>40.000000</td>\n",
       "      <td>24.000000</td>\n",
       "      <td>NaN</td>\n",
       "    </tr>\n",
       "    <tr>\n",
       "      <th>1</th>\n",
       "      <td>31.0</td>\n",
       "      <td>36.233333</td>\n",
       "      <td>41.466667</td>\n",
       "      <td>46.7</td>\n",
       "      <td>51.933333</td>\n",
       "      <td>57.166667</td>\n",
       "      <td>62.4</td>\n",
       "      <td>67.633333</td>\n",
       "      <td>72.866667</td>\n",
       "      <td>78.1</td>\n",
       "      <td>83.333333</td>\n",
       "      <td>88.566667</td>\n",
       "      <td>93.8</td>\n",
       "      <td>99.033333</td>\n",
       "      <td>104.266667</td>\n",
       "      <td>109.5</td>\n",
       "      <td>114.733333</td>\n",
       "      <td>119.966667</td>\n",
       "      <td>125.2</td>\n",
       "      <td>130.433333</td>\n",
       "      <td>135.666667</td>\n",
       "      <td>140.9</td>\n",
       "      <td>146.133333</td>\n",
       "      <td>151.366667</td>\n",
       "      <td>156.6</td>\n",
       "      <td>161.833333</td>\n",
       "      <td>167.066667</td>\n",
       "      <td>172.3</td>\n",
       "      <td>177.533333</td>\n",
       "      <td>182.766667</td>\n",
       "      <td>188.0</td>\n",
       "    </tr>\n",
       "  </tbody>\n",
       "</table>\n",
       "</div>"
      ],
      "text/plain": [
       "      0          1          2      3            4            5        6  \\\n",
       "0   5.0  17.000000  55.000000  199.0  2483.000000  9377.000000  12965.0   \n",
       "1  31.0  36.233333  41.466667   46.7    51.933333    57.166667     62.4   \n",
       "\n",
       "              7             8       9           10           11      12  \\\n",
       "0  12878.000000  13617.000000  9166.0  6705.000000  4632.000000  3499.0   \n",
       "1     67.633333     72.866667    78.1    83.333333    88.566667    93.8   \n",
       "\n",
       "            13           14     15          16          17     18          19  \\\n",
       "0  1856.000000  1258.000000  783.0  547.000000  452.000000  239.0  189.000000   \n",
       "1    99.033333   104.266667  109.5  114.733333  119.966667  125.2  130.433333   \n",
       "\n",
       "           20     21          22          23     24          25          26  \\\n",
       "0  202.000000  300.0  463.000000  510.000000  588.0  333.000000   96.000000   \n",
       "1  135.666667  140.9  146.133333  151.366667  156.6  161.833333  167.066667   \n",
       "\n",
       "      27          28          29     30  \n",
       "0   42.0   40.000000   24.000000    NaN  \n",
       "1  172.3  177.533333  182.766667  188.0  "
      ]
     },
     "execution_count": 16,
     "metadata": {},
     "output_type": "execute_result"
    },
    {
     "data": {
      "application/javascript": [
       "\n",
       "            setTimeout(function() {\n",
       "                var nbb_cell_id = 16;\n",
       "                var nbb_unformatted_code = \"pd.set_option(\\\"max_columns\\\", None)\\npd.DataFrame(np.histogram(active_heart_rate, bins=30))\";\n",
       "                var nbb_formatted_code = \"pd.set_option(\\\"max_columns\\\", None)\\npd.DataFrame(np.histogram(active_heart_rate, bins=30))\";\n",
       "                var nbb_cells = Jupyter.notebook.get_cells();\n",
       "                for (var i = 0; i < nbb_cells.length; ++i) {\n",
       "                    if (nbb_cells[i].input_prompt_number == nbb_cell_id) {\n",
       "                        if (nbb_cells[i].get_text() == nbb_unformatted_code) {\n",
       "                             nbb_cells[i].set_text(nbb_formatted_code);\n",
       "                        }\n",
       "                        break;\n",
       "                    }\n",
       "                }\n",
       "            }, 500);\n",
       "            "
      ],
      "text/plain": [
       "<IPython.core.display.Javascript object>"
      ]
     },
     "metadata": {},
     "output_type": "display_data"
    }
   ],
   "source": [
    "pd.set_option(\"max_columns\", None)\n",
    "pd.DataFrame(np.histogram(active_heart_rate, bins=30))"
   ]
  },
  {
   "cell_type": "code",
   "execution_count": 17,
   "metadata": {
    "scrolled": true
   },
   "outputs": [
    {
     "name": "stderr",
     "output_type": "stream",
     "text": [
      "/Users/Indre/Library/Python/3.7/lib/python/site-packages/numpy/lib/histograms.py:839: RuntimeWarning: invalid value encountered in greater_equal\n",
      "  keep = (tmp_a >= first_edge)\n",
      "/Users/Indre/Library/Python/3.7/lib/python/site-packages/numpy/lib/histograms.py:840: RuntimeWarning: invalid value encountered in less_equal\n",
      "  keep &= (tmp_a <= last_edge)\n"
     ]
    },
    {
     "data": {
      "text/html": [
       "<div>\n",
       "<style scoped>\n",
       "    .dataframe tbody tr th:only-of-type {\n",
       "        vertical-align: middle;\n",
       "    }\n",
       "\n",
       "    .dataframe tbody tr th {\n",
       "        vertical-align: top;\n",
       "    }\n",
       "\n",
       "    .dataframe thead th {\n",
       "        text-align: right;\n",
       "    }\n",
       "</style>\n",
       "<table border=\"1\" class=\"dataframe\">\n",
       "  <thead>\n",
       "    <tr style=\"text-align: right;\">\n",
       "      <th></th>\n",
       "      <th>0</th>\n",
       "      <th>1</th>\n",
       "      <th>2</th>\n",
       "      <th>3</th>\n",
       "      <th>4</th>\n",
       "      <th>5</th>\n",
       "      <th>6</th>\n",
       "      <th>7</th>\n",
       "      <th>8</th>\n",
       "      <th>9</th>\n",
       "      <th>10</th>\n",
       "      <th>11</th>\n",
       "      <th>12</th>\n",
       "      <th>13</th>\n",
       "      <th>14</th>\n",
       "      <th>15</th>\n",
       "      <th>16</th>\n",
       "      <th>17</th>\n",
       "      <th>18</th>\n",
       "      <th>19</th>\n",
       "      <th>20</th>\n",
       "      <th>21</th>\n",
       "      <th>22</th>\n",
       "      <th>23</th>\n",
       "      <th>24</th>\n",
       "      <th>25</th>\n",
       "      <th>26</th>\n",
       "      <th>27</th>\n",
       "      <th>28</th>\n",
       "      <th>29</th>\n",
       "      <th>30</th>\n",
       "    </tr>\n",
       "  </thead>\n",
       "  <tbody>\n",
       "    <tr>\n",
       "      <th>0</th>\n",
       "      <td>11.0</td>\n",
       "      <td>77.000000</td>\n",
       "      <td>416.000000</td>\n",
       "      <td>1851.0</td>\n",
       "      <td>9104.000000</td>\n",
       "      <td>16597.000000</td>\n",
       "      <td>27763.0</td>\n",
       "      <td>24611.000000</td>\n",
       "      <td>20249.000000</td>\n",
       "      <td>15804.0</td>\n",
       "      <td>11553.000000</td>\n",
       "      <td>6460.000000</td>\n",
       "      <td>5406.0</td>\n",
       "      <td>3363.000000</td>\n",
       "      <td>2201.000000</td>\n",
       "      <td>1318.0</td>\n",
       "      <td>846.000000</td>\n",
       "      <td>414.000000</td>\n",
       "      <td>351.0</td>\n",
       "      <td>243.000000</td>\n",
       "      <td>172.000000</td>\n",
       "      <td>98.0</td>\n",
       "      <td>78.000000</td>\n",
       "      <td>51.000000</td>\n",
       "      <td>94.0</td>\n",
       "      <td>95.000000</td>\n",
       "      <td>73.000000</td>\n",
       "      <td>27.0</td>\n",
       "      <td>8.000000</td>\n",
       "      <td>2.000000</td>\n",
       "      <td>NaN</td>\n",
       "    </tr>\n",
       "    <tr>\n",
       "      <th>1</th>\n",
       "      <td>35.0</td>\n",
       "      <td>39.833333</td>\n",
       "      <td>44.666667</td>\n",
       "      <td>49.5</td>\n",
       "      <td>54.333333</td>\n",
       "      <td>59.166667</td>\n",
       "      <td>64.0</td>\n",
       "      <td>68.833333</td>\n",
       "      <td>73.666667</td>\n",
       "      <td>78.5</td>\n",
       "      <td>83.333333</td>\n",
       "      <td>88.166667</td>\n",
       "      <td>93.0</td>\n",
       "      <td>97.833333</td>\n",
       "      <td>102.666667</td>\n",
       "      <td>107.5</td>\n",
       "      <td>112.333333</td>\n",
       "      <td>117.166667</td>\n",
       "      <td>122.0</td>\n",
       "      <td>126.833333</td>\n",
       "      <td>131.666667</td>\n",
       "      <td>136.5</td>\n",
       "      <td>141.333333</td>\n",
       "      <td>146.166667</td>\n",
       "      <td>151.0</td>\n",
       "      <td>155.833333</td>\n",
       "      <td>160.666667</td>\n",
       "      <td>165.5</td>\n",
       "      <td>170.333333</td>\n",
       "      <td>175.166667</td>\n",
       "      <td>180.0</td>\n",
       "    </tr>\n",
       "  </tbody>\n",
       "</table>\n",
       "</div>"
      ],
      "text/plain": [
       "      0          1           2       3            4             5        6  \\\n",
       "0  11.0  77.000000  416.000000  1851.0  9104.000000  16597.000000  27763.0   \n",
       "1  35.0  39.833333   44.666667    49.5    54.333333     59.166667     64.0   \n",
       "\n",
       "              7             8        9            10           11      12  \\\n",
       "0  24611.000000  20249.000000  15804.0  11553.000000  6460.000000  5406.0   \n",
       "1     68.833333     73.666667     78.5     83.333333    88.166667    93.0   \n",
       "\n",
       "            13           14      15          16          17     18  \\\n",
       "0  3363.000000  2201.000000  1318.0  846.000000  414.000000  351.0   \n",
       "1    97.833333   102.666667   107.5  112.333333  117.166667  122.0   \n",
       "\n",
       "           19          20     21          22          23     24          25  \\\n",
       "0  243.000000  172.000000   98.0   78.000000   51.000000   94.0   95.000000   \n",
       "1  126.833333  131.666667  136.5  141.333333  146.166667  151.0  155.833333   \n",
       "\n",
       "           26     27          28          29     30  \n",
       "0   73.000000   27.0    8.000000    2.000000    NaN  \n",
       "1  160.666667  165.5  170.333333  175.166667  180.0  "
      ]
     },
     "execution_count": 17,
     "metadata": {},
     "output_type": "execute_result"
    },
    {
     "data": {
      "application/javascript": [
       "\n",
       "            setTimeout(function() {\n",
       "                var nbb_cell_id = 17;\n",
       "                var nbb_unformatted_code = \"# pd.set_option(\\\"max_columns\\\", None)\\npd.DataFrame(np.histogram(non_active_heart_rate, bins=30, range=(35, 180)))\";\n",
       "                var nbb_formatted_code = \"# pd.set_option(\\\"max_columns\\\", None)\\npd.DataFrame(np.histogram(non_active_heart_rate, bins=30, range=(35, 180)))\";\n",
       "                var nbb_cells = Jupyter.notebook.get_cells();\n",
       "                for (var i = 0; i < nbb_cells.length; ++i) {\n",
       "                    if (nbb_cells[i].input_prompt_number == nbb_cell_id) {\n",
       "                        if (nbb_cells[i].get_text() == nbb_unformatted_code) {\n",
       "                             nbb_cells[i].set_text(nbb_formatted_code);\n",
       "                        }\n",
       "                        break;\n",
       "                    }\n",
       "                }\n",
       "            }, 500);\n",
       "            "
      ],
      "text/plain": [
       "<IPython.core.display.Javascript object>"
      ]
     },
     "metadata": {},
     "output_type": "display_data"
    }
   ],
   "source": [
    "# pd.set_option(\"max_columns\", None)\n",
    "pd.DataFrame(np.histogram(non_active_heart_rate, bins=30, range=(35, 180)))"
   ]
  },
  {
   "cell_type": "code",
   "execution_count": 18,
   "metadata": {},
   "outputs": [
    {
     "name": "stdout",
     "output_type": "stream",
     "text": [
      "skewness =  2.1491809403105337 , kurtosis =  6.075911821877197 , mean =  78.42866379310345 , max =  188.0 , min =  31.0\n"
     ]
    },
    {
     "data": {
      "application/javascript": [
       "\n",
       "            setTimeout(function() {\n",
       "                var nbb_cell_id = 18;\n",
       "                var nbb_unformatted_code = \"sk = skew(pd.melt(active_heart_rate)[\\\"value\\\"])\\nkur = kurtosis(pd.melt(active_heart_rate)[\\\"value\\\"])\\nm = pd.melt(active_heart_rate)[\\\"value\\\"].mean()\\nhr_max = pd.melt(active_heart_rate)[\\\"value\\\"].max()\\nhr_min = pd.melt(active_heart_rate)[\\\"value\\\"].min()\\nprint(\\n    \\\"skewness = \\\",\\n    sk,\\n    \\\", kurtosis = \\\",\\n    kur,\\n    \\\", mean = \\\",\\n    m,\\n    \\\", max = \\\",\\n    hr_max,\\n    \\\", min = \\\",\\n    hr_min,\\n)\";\n",
       "                var nbb_formatted_code = \"sk = skew(pd.melt(active_heart_rate)[\\\"value\\\"])\\nkur = kurtosis(pd.melt(active_heart_rate)[\\\"value\\\"])\\nm = pd.melt(active_heart_rate)[\\\"value\\\"].mean()\\nhr_max = pd.melt(active_heart_rate)[\\\"value\\\"].max()\\nhr_min = pd.melt(active_heart_rate)[\\\"value\\\"].min()\\nprint(\\n    \\\"skewness = \\\",\\n    sk,\\n    \\\", kurtosis = \\\",\\n    kur,\\n    \\\", mean = \\\",\\n    m,\\n    \\\", max = \\\",\\n    hr_max,\\n    \\\", min = \\\",\\n    hr_min,\\n)\";\n",
       "                var nbb_cells = Jupyter.notebook.get_cells();\n",
       "                for (var i = 0; i < nbb_cells.length; ++i) {\n",
       "                    if (nbb_cells[i].input_prompt_number == nbb_cell_id) {\n",
       "                        if (nbb_cells[i].get_text() == nbb_unformatted_code) {\n",
       "                             nbb_cells[i].set_text(nbb_formatted_code);\n",
       "                        }\n",
       "                        break;\n",
       "                    }\n",
       "                }\n",
       "            }, 500);\n",
       "            "
      ],
      "text/plain": [
       "<IPython.core.display.Javascript object>"
      ]
     },
     "metadata": {},
     "output_type": "display_data"
    }
   ],
   "source": [
    "sk = skew(pd.melt(active_heart_rate)[\"value\"])\n",
    "kur = kurtosis(pd.melt(active_heart_rate)[\"value\"])\n",
    "m = pd.melt(active_heart_rate)[\"value\"].mean()\n",
    "hr_max = pd.melt(active_heart_rate)[\"value\"].max()\n",
    "hr_min = pd.melt(active_heart_rate)[\"value\"].min()\n",
    "print(\n",
    "    \"skewness = \",\n",
    "    sk,\n",
    "    \", kurtosis = \",\n",
    "    kur,\n",
    "    \", mean = \",\n",
    "    m,\n",
    "    \", max = \",\n",
    "    hr_max,\n",
    "    \", min = \",\n",
    "    hr_min,\n",
    ")"
   ]
  },
  {
   "cell_type": "code",
   "execution_count": 19,
   "metadata": {
    "scrolled": true
   },
   "outputs": [
    {
     "name": "stdout",
     "output_type": "stream",
     "text": [
      "skewness =  1.3867100239542534 , kurtosis =  4.155483225112308 , mean =  74.9098141104623 , max =  179.0 , min =  36.0\n"
     ]
    },
    {
     "data": {
      "application/javascript": [
       "\n",
       "            setTimeout(function() {\n",
       "                var nbb_cell_id = 19;\n",
       "                var nbb_unformatted_code = \"sk = skew(pd.melt(non_active_heart_rate.dropna())[\\\"value\\\"])\\nkur = kurtosis(pd.melt(non_active_heart_rate.dropna())[\\\"value\\\"])\\nm = pd.melt(non_active_heart_rate)[\\\"value\\\"].mean()\\nhr_max = pd.melt(non_active_heart_rate)[\\\"value\\\"].max()\\nhr_min = pd.melt(non_active_heart_rate)[\\\"value\\\"].min()\\nprint(\\n    \\\"skewness = \\\",\\n    sk,\\n    \\\", kurtosis = \\\",\\n    kur,\\n    \\\", mean = \\\",\\n    m,\\n    \\\", max = \\\",\\n    hr_max,\\n    \\\", min = \\\",\\n    hr_min,\\n)\";\n",
       "                var nbb_formatted_code = \"sk = skew(pd.melt(non_active_heart_rate.dropna())[\\\"value\\\"])\\nkur = kurtosis(pd.melt(non_active_heart_rate.dropna())[\\\"value\\\"])\\nm = pd.melt(non_active_heart_rate)[\\\"value\\\"].mean()\\nhr_max = pd.melt(non_active_heart_rate)[\\\"value\\\"].max()\\nhr_min = pd.melt(non_active_heart_rate)[\\\"value\\\"].min()\\nprint(\\n    \\\"skewness = \\\",\\n    sk,\\n    \\\", kurtosis = \\\",\\n    kur,\\n    \\\", mean = \\\",\\n    m,\\n    \\\", max = \\\",\\n    hr_max,\\n    \\\", min = \\\",\\n    hr_min,\\n)\";\n",
       "                var nbb_cells = Jupyter.notebook.get_cells();\n",
       "                for (var i = 0; i < nbb_cells.length; ++i) {\n",
       "                    if (nbb_cells[i].input_prompt_number == nbb_cell_id) {\n",
       "                        if (nbb_cells[i].get_text() == nbb_unformatted_code) {\n",
       "                             nbb_cells[i].set_text(nbb_formatted_code);\n",
       "                        }\n",
       "                        break;\n",
       "                    }\n",
       "                }\n",
       "            }, 500);\n",
       "            "
      ],
      "text/plain": [
       "<IPython.core.display.Javascript object>"
      ]
     },
     "metadata": {},
     "output_type": "display_data"
    }
   ],
   "source": [
    "sk = skew(pd.melt(non_active_heart_rate.dropna())[\"value\"])\n",
    "kur = kurtosis(pd.melt(non_active_heart_rate.dropna())[\"value\"])\n",
    "m = pd.melt(non_active_heart_rate)[\"value\"].mean()\n",
    "hr_max = pd.melt(non_active_heart_rate)[\"value\"].max()\n",
    "hr_min = pd.melt(non_active_heart_rate)[\"value\"].min()\n",
    "print(\n",
    "    \"skewness = \",\n",
    "    sk,\n",
    "    \", kurtosis = \",\n",
    "    kur,\n",
    "    \", mean = \",\n",
    "    m,\n",
    "    \", max = \",\n",
    "    hr_max,\n",
    "    \", min = \",\n",
    "    hr_min,\n",
    ")"
   ]
  },
  {
   "cell_type": "code",
   "execution_count": 20,
   "metadata": {},
   "outputs": [
    {
     "data": {
      "application/javascript": [
       "\n",
       "            setTimeout(function() {\n",
       "                var nbb_cell_id = 20;\n",
       "                var nbb_unformatted_code = \"HR_stats_df = pd.read_csv(\\\"heart_rate_stats.csv\\\")\";\n",
       "                var nbb_formatted_code = \"HR_stats_df = pd.read_csv(\\\"heart_rate_stats.csv\\\")\";\n",
       "                var nbb_cells = Jupyter.notebook.get_cells();\n",
       "                for (var i = 0; i < nbb_cells.length; ++i) {\n",
       "                    if (nbb_cells[i].input_prompt_number == nbb_cell_id) {\n",
       "                        if (nbb_cells[i].get_text() == nbb_unformatted_code) {\n",
       "                             nbb_cells[i].set_text(nbb_formatted_code);\n",
       "                        }\n",
       "                        break;\n",
       "                    }\n",
       "                }\n",
       "            }, 500);\n",
       "            "
      ],
      "text/plain": [
       "<IPython.core.display.Javascript object>"
      ]
     },
     "metadata": {},
     "output_type": "display_data"
    }
   ],
   "source": [
    "HR_stats_df = pd.read_csv(\"heart_rate_stats.csv\")"
   ]
  },
  {
   "cell_type": "code",
   "execution_count": 21,
   "metadata": {},
   "outputs": [
    {
     "data": {
      "text/plain": [
       "array(['14:48:00', '14:50:00'], dtype=object)"
      ]
     },
     "execution_count": 21,
     "metadata": {},
     "output_type": "execute_result"
    },
    {
     "data": {
      "application/javascript": [
       "\n",
       "            setTimeout(function() {\n",
       "                var nbb_cell_id = 21;\n",
       "                var nbb_unformatted_code = \"active_heart_rate[active_heart_rate[\\\"2019-09-08\\\"] == 188].index.values\";\n",
       "                var nbb_formatted_code = \"active_heart_rate[active_heart_rate[\\\"2019-09-08\\\"] == 188].index.values\";\n",
       "                var nbb_cells = Jupyter.notebook.get_cells();\n",
       "                for (var i = 0; i < nbb_cells.length; ++i) {\n",
       "                    if (nbb_cells[i].input_prompt_number == nbb_cell_id) {\n",
       "                        if (nbb_cells[i].get_text() == nbb_unformatted_code) {\n",
       "                             nbb_cells[i].set_text(nbb_formatted_code);\n",
       "                        }\n",
       "                        break;\n",
       "                    }\n",
       "                }\n",
       "            }, 500);\n",
       "            "
      ],
      "text/plain": [
       "<IPython.core.display.Javascript object>"
      ]
     },
     "metadata": {},
     "output_type": "display_data"
    }
   ],
   "source": [
    "active_heart_rate[active_heart_rate[\"2019-09-08\"] == 188].index.values"
   ]
  },
  {
   "cell_type": "markdown",
   "metadata": {},
   "source": [
    "## Plots\n",
    "\n",
    "Min and max heart rates comparision"
   ]
  },
  {
   "cell_type": "code",
   "execution_count": 22,
   "metadata": {},
   "outputs": [
    {
     "data": {
      "application/javascript": [
       "\n",
       "            setTimeout(function() {\n",
       "                var nbb_cell_id = 22;\n",
       "                var nbb_unformatted_code = \"active_stats = active_heart_rate.describe()\\nnon_active_stats = non_active_heart_rate.describe()\\nactive_stats_t = active_stats.T\\nnon_active_stats_t = non_active_stats.T\";\n",
       "                var nbb_formatted_code = \"active_stats = active_heart_rate.describe()\\nnon_active_stats = non_active_heart_rate.describe()\\nactive_stats_t = active_stats.T\\nnon_active_stats_t = non_active_stats.T\";\n",
       "                var nbb_cells = Jupyter.notebook.get_cells();\n",
       "                for (var i = 0; i < nbb_cells.length; ++i) {\n",
       "                    if (nbb_cells[i].input_prompt_number == nbb_cell_id) {\n",
       "                        if (nbb_cells[i].get_text() == nbb_unformatted_code) {\n",
       "                             nbb_cells[i].set_text(nbb_formatted_code);\n",
       "                        }\n",
       "                        break;\n",
       "                    }\n",
       "                }\n",
       "            }, 500);\n",
       "            "
      ],
      "text/plain": [
       "<IPython.core.display.Javascript object>"
      ]
     },
     "metadata": {},
     "output_type": "display_data"
    }
   ],
   "source": [
    "active_stats = active_heart_rate.describe()\n",
    "non_active_stats = non_active_heart_rate.describe()\n",
    "active_stats_t = active_stats.T\n",
    "non_active_stats_t = non_active_stats.T"
   ]
  },
  {
   "cell_type": "code",
   "execution_count": 24,
   "metadata": {
    "scrolled": true
   },
   "outputs": [
    {
     "data": {
      "image/png": "[encoded data removed]",
      "text/plain": [
       "<Figure size 1008x576 with 1 Axes>"
      ]
     },
     "metadata": {},
     "output_type": "display_data"
    },
    {
     "data": {
      "application/javascript": [
       "\n",
       "            setTimeout(function() {\n",
       "                var nbb_cell_id = 24;\n",
       "                var nbb_unformatted_code = \"# labels to x axis\\ndates = pd.DataFrame(list(active_stats.columns))\\ndates = dates.iloc[:, 0].apply(lambda x: dt.strptime(x, \\\"%Y-%m-%d\\\"))\\n\\nplt.figure(figsize=(14, 8))\\nplt.title(\\\"Max and min heart rates of active days\\\", fontsize=24)\\nplt.style.use(\\\"seaborn-pastel\\\")\\n\\nsns.lineplot(data=active_stats.loc[\\\"min\\\"], color=\\\"Teal\\\", ci=\\\"sh\\\", markers=\\\"-o\\\")\\nsns.lineplot(data=active_stats.loc[\\\"max\\\"], color=\\\"Cyan\\\")\\nsns.lineplot(data=pd.Series([60] * len(active_stats.loc[\\\"min\\\"])), color=\\\"Red\\\")\\nsns.lineplot(data=pd.Series([180] * len(active_stats.loc[\\\"min\\\"])), color=\\\"Red\\\")\\n\\nplt.gca().fill_between(\\n    range(len(active_stats.loc[\\\"min\\\"])),\\n    active_stats.loc[\\\"min\\\"],\\n    active_stats.loc[\\\"max\\\"],\\n    facecolor=\\\"grey\\\",\\n    alpha=0.25,\\n)\\nplt.legend = [\\\"Min\\\", \\\"Max\\\"]\\nplt.xlabel(\\\"Date\\\", fontsize=18)\\nplt.ylabel(\\\"Heart rate\\\", fontsize=18)\\nlocs, labels = plt.xticks()\\nplt.xticks(\\n    list(active_stats.columns)[0::10], dates.dt.to_period(\\\"M\\\")[0::10], fontsize=14\\n)\\n\\nplt.show()\";\n",
       "                var nbb_formatted_code = \"# labels to x axis\\ndates = pd.DataFrame(list(active_stats.columns))\\ndates = dates.iloc[:, 0].apply(lambda x: dt.strptime(x, \\\"%Y-%m-%d\\\"))\\n\\nplt.figure(figsize=(14, 8))\\nplt.title(\\\"Max and min heart rates of active days\\\", fontsize=24)\\nplt.style.use(\\\"seaborn-pastel\\\")\\n\\nsns.lineplot(data=active_stats.loc[\\\"min\\\"], color=\\\"Teal\\\", ci=\\\"sh\\\", markers=\\\"-o\\\")\\nsns.lineplot(data=active_stats.loc[\\\"max\\\"], color=\\\"Cyan\\\")\\nsns.lineplot(data=pd.Series([60] * len(active_stats.loc[\\\"min\\\"])), color=\\\"Red\\\")\\nsns.lineplot(data=pd.Series([180] * len(active_stats.loc[\\\"min\\\"])), color=\\\"Red\\\")\\n\\nplt.gca().fill_between(\\n    range(len(active_stats.loc[\\\"min\\\"])),\\n    active_stats.loc[\\\"min\\\"],\\n    active_stats.loc[\\\"max\\\"],\\n    facecolor=\\\"grey\\\",\\n    alpha=0.25,\\n)\\nplt.legend = [\\\"Min\\\", \\\"Max\\\"]\\nplt.xlabel(\\\"Date\\\", fontsize=18)\\nplt.ylabel(\\\"Heart rate\\\", fontsize=18)\\nlocs, labels = plt.xticks()\\nplt.xticks(\\n    list(active_stats.columns)[0::10], dates.dt.to_period(\\\"M\\\")[0::10], fontsize=14\\n)\\n\\nplt.show()\";\n",
       "                var nbb_cells = Jupyter.notebook.get_cells();\n",
       "                for (var i = 0; i < nbb_cells.length; ++i) {\n",
       "                    if (nbb_cells[i].input_prompt_number == nbb_cell_id) {\n",
       "                        if (nbb_cells[i].get_text() == nbb_unformatted_code) {\n",
       "                             nbb_cells[i].set_text(nbb_formatted_code);\n",
       "                        }\n",
       "                        break;\n",
       "                    }\n",
       "                }\n",
       "            }, 500);\n",
       "            "
      ],
      "text/plain": [
       "<IPython.core.display.Javascript object>"
      ]
     },
     "metadata": {},
     "output_type": "display_data"
    }
   ],
   "source": [
    "# labels to x axis\n",
    "dates = pd.DataFrame(list(active_stats.columns))\n",
    "dates = dates.iloc[:, 0].apply(lambda x: dt.strptime(x, \"%Y-%m-%d\"))\n",
    "\n",
    "plt.figure(figsize=(14, 8))\n",
    "plt.title(\"Max and min heart rates of active days\", fontsize=24)\n",
    "plt.style.use(\"seaborn-pastel\")\n",
    "\n",
    "sns.lineplot(data=active_stats.loc[\"min\"], color=\"Teal\", ci=\"sh\", markers=\"-o\")\n",
    "sns.lineplot(data=active_stats.loc[\"max\"], color=\"Cyan\")\n",
    "sns.lineplot(data=pd.Series([60] * len(active_stats.loc[\"min\"])), color=\"Red\")\n",
    "sns.lineplot(data=pd.Series([180] * len(active_stats.loc[\"min\"])), color=\"Red\")\n",
    "\n",
    "plt.gca().fill_between(\n",
    "    range(len(active_stats.loc[\"min\"])),\n",
    "    active_stats.loc[\"min\"],\n",
    "    active_stats.loc[\"max\"],\n",
    "    facecolor=\"grey\",\n",
    "    alpha=0.25,\n",
    ")\n",
    "plt.legend = [\"Min\", \"Max\"]\n",
    "plt.xlabel(\"Date\", fontsize=18)\n",
    "plt.ylabel(\"Heart rate\", fontsize=18)\n",
    "locs, labels = plt.xticks()\n",
    "plt.xticks(\n",
    "    list(active_stats.columns)[0::10], dates.dt.to_period(\"M\")[0::10], fontsize=14\n",
    ")\n",
    "\n",
    "plt.show()"
   ]
  },
  {
   "cell_type": "markdown",
   "metadata": {},
   "source": [
    "- Line at 180 HR bmp is wanted max limit of HR. Higher values might indicate overtraining.\n",
    "- Line at 60 HR bmp indicates max resting HR. Higher resting HR might indicate overtraining as well.\n",
    "- Max HR is more volatile that min HR, this indicates that activities were different in intensity and heart can calm down after activities.\n"
   ]
  },
  {
   "cell_type": "markdown",
   "metadata": {},
   "source": [
    "## Boxplot\n",
    "\n",
    "Min and max heart rates comparison by using boxplots"
   ]
  },
  {
   "cell_type": "code",
   "execution_count": 29,
   "metadata": {
    "scrolled": true
   },
   "outputs": [
    {
     "data": {
      "text/plain": [
       "<Figure size 576x396 with 0 Axes>"
      ]
     },
     "metadata": {},
     "output_type": "display_data"
    },
    {
     "data": {
      "image/png": "[encoded data removed]",
      "text/plain": [
       "<Figure size 1728x576 with 2 Axes>"
      ]
     },
     "metadata": {},
     "output_type": "display_data"
    },
    {
     "data": {
      "application/javascript": [
       "\n",
       "            setTimeout(function() {\n",
       "                var nbb_cell_id = 29;\n",
       "                var nbb_unformatted_code = \"plt.figure()\\n\\nsns.set(font_scale=1.5)\\nsns.set_style(\\\"white\\\")\\n\\nfig, axis = plt.subplots(1, 2, figsize=(24, 8), sharey=True, frameon=False)\\naxis[0].set_title('Heart rate Max & Min boxplot, active days', fontsize=24)\\naxis[1].set_title('Heart rate Max & Min boxplot, non-active days', fontsize=24)\\n\\nsns.boxplot(x=\\\"variable\\\", y=\\\"value\\\", data=pd.melt(active_stats_t.loc[:,['min', 'max']]), ax = axis[0])\\nsns.boxplot(x=\\\"variable\\\", y=\\\"value\\\", data=pd.melt(non_active_stats_t.loc[:,['min', 'max']]), ax = axis[1])\\n\\nsns.despine(offset=10, trim=True);\\naxis[0].set_xlabel('')\\naxis[1].set_xlabel('')\\naxis[0].set_ylabel('Heart rate', fontsize=20)\\naxis[1].set_ylabel('')\\n\\nplt.show()\";\n",
       "                var nbb_formatted_code = \"plt.figure()\\n\\nsns.set(font_scale=1.5)\\nsns.set_style(\\\"white\\\")\\n\\nfig, axis = plt.subplots(1, 2, figsize=(24, 8), sharey=True, frameon=False)\\naxis[0].set_title(\\\"Heart rate Max & Min boxplot, active days\\\", fontsize=24)\\naxis[1].set_title(\\\"Heart rate Max & Min boxplot, non-active days\\\", fontsize=24)\\n\\nsns.boxplot(\\n    x=\\\"variable\\\",\\n    y=\\\"value\\\",\\n    data=pd.melt(active_stats_t.loc[:, [\\\"min\\\", \\\"max\\\"]]),\\n    ax=axis[0],\\n)\\nsns.boxplot(\\n    x=\\\"variable\\\",\\n    y=\\\"value\\\",\\n    data=pd.melt(non_active_stats_t.loc[:, [\\\"min\\\", \\\"max\\\"]]),\\n    ax=axis[1],\\n)\\n\\nsns.despine(offset=10, trim=True)\\naxis[0].set_xlabel(\\\"\\\")\\naxis[1].set_xlabel(\\\"\\\")\\naxis[0].set_ylabel(\\\"Heart rate\\\", fontsize=20)\\naxis[1].set_ylabel(\\\"\\\")\\n\\nplt.show()\";\n",
       "                var nbb_cells = Jupyter.notebook.get_cells();\n",
       "                for (var i = 0; i < nbb_cells.length; ++i) {\n",
       "                    if (nbb_cells[i].input_prompt_number == nbb_cell_id) {\n",
       "                        if (nbb_cells[i].get_text() == nbb_unformatted_code) {\n",
       "                             nbb_cells[i].set_text(nbb_formatted_code);\n",
       "                        }\n",
       "                        break;\n",
       "                    }\n",
       "                }\n",
       "            }, 500);\n",
       "            "
      ],
      "text/plain": [
       "<IPython.core.display.Javascript object>"
      ]
     },
     "metadata": {},
     "output_type": "display_data"
    }
   ],
   "source": [
    "plt.figure()\n",
    "\n",
    "sns.set(font_scale=1.5)\n",
    "sns.set_style(\"white\")\n",
    "\n",
    "fig, axis = plt.subplots(1, 2, figsize=(24, 8), sharey=True, frameon=False)\n",
    "axis[0].set_title(\"Heart rate Max & Min boxplot, active days\", fontsize=24)\n",
    "axis[1].set_title(\"Heart rate Max & Min boxplot, non-active days\", fontsize=24)\n",
    "\n",
    "sns.boxplot(\n",
    "    x=\"variable\",\n",
    "    y=\"value\",\n",
    "    data=pd.melt(active_stats_t.loc[:, [\"min\", \"max\"]]),\n",
    "    ax=axis[0],\n",
    ")\n",
    "sns.boxplot(\n",
    "    x=\"variable\",\n",
    "    y=\"value\",\n",
    "    data=pd.melt(non_active_stats_t.loc[:, [\"min\", \"max\"]]),\n",
    "    ax=axis[1],\n",
    ")\n",
    "\n",
    "sns.despine(offset=10, trim=True)\n",
    "axis[0].set_xlabel(\"\")\n",
    "axis[1].set_xlabel(\"\")\n",
    "axis[0].set_ylabel(\"Heart rate\", fontsize=20)\n",
    "axis[1].set_ylabel(\"\")\n",
    "\n",
    "plt.show()"
   ]
  },
  {
   "cell_type": "markdown",
   "metadata": {},
   "source": [
    "- Boxplot confirms the insights made from the previous graph: max HR's volatile much more than min HR's and have different statistics between active and non-active days.\n",
    "- Max HR's show intensity of activity.\n",
    "- Min HR's show resting quality."
   ]
  },
  {
   "cell_type": "markdown",
   "metadata": {},
   "source": [
    "## Bar plot\n",
    "\n",
    "Activities summary"
   ]
  },
  {
   "cell_type": "code",
   "execution_count": 30,
   "metadata": {},
   "outputs": [
    {
     "data": {
      "application/javascript": [
       "\n",
       "            setTimeout(function() {\n",
       "                var nbb_cell_id = 30;\n",
       "                var nbb_unformatted_code = \"activities_df['month'] = activities_df['startTimeLocal'].dt.month_name()\\nactivities_df['distance'] = activities_df['distance'].div(1000)\";\n",
       "                var nbb_formatted_code = \"activities_df[\\\"month\\\"] = activities_df[\\\"startTimeLocal\\\"].dt.month_name()\\nactivities_df[\\\"distance\\\"] = activities_df[\\\"distance\\\"].div(1000)\";\n",
       "                var nbb_cells = Jupyter.notebook.get_cells();\n",
       "                for (var i = 0; i < nbb_cells.length; ++i) {\n",
       "                    if (nbb_cells[i].input_prompt_number == nbb_cell_id) {\n",
       "                        if (nbb_cells[i].get_text() == nbb_unformatted_code) {\n",
       "                             nbb_cells[i].set_text(nbb_formatted_code);\n",
       "                        }\n",
       "                        break;\n",
       "                    }\n",
       "                }\n",
       "            }, 500);\n",
       "            "
      ],
      "text/plain": [
       "<IPython.core.display.Javascript object>"
      ]
     },
     "metadata": {},
     "output_type": "display_data"
    }
   ],
   "source": [
    "activities_df[\"month\"] = activities_df[\"startTimeLocal\"].dt.month_name()\n",
    "activities_df[\"distance\"] = activities_df[\"distance\"].div(1000)"
   ]
  },
  {
   "cell_type": "code",
   "execution_count": 31,
   "metadata": {},
   "outputs": [
    {
     "data": {
      "text/plain": [
       "count                     129\n",
       "unique                    129\n",
       "top       2020-04-23 11:40:02\n",
       "freq                        1\n",
       "first     2019-08-31 19:23:47\n",
       "last      2020-06-29 20:04:13\n",
       "Name: startTimeLocal, dtype: object"
      ]
     },
     "execution_count": 31,
     "metadata": {},
     "output_type": "execute_result"
    },
    {
     "data": {
      "application/javascript": [
       "\n",
       "            setTimeout(function() {\n",
       "                var nbb_cell_id = 31;\n",
       "                var nbb_unformatted_code = \"activities_df = activities_df[activities_df[\\\"startTimeLocal\\\"]> '2019-08-30']\\nactivities_df[\\\"startTimeLocal\\\"].describe()\";\n",
       "                var nbb_formatted_code = \"activities_df = activities_df[activities_df[\\\"startTimeLocal\\\"] > \\\"2019-08-30\\\"]\\nactivities_df[\\\"startTimeLocal\\\"].describe()\";\n",
       "                var nbb_cells = Jupyter.notebook.get_cells();\n",
       "                for (var i = 0; i < nbb_cells.length; ++i) {\n",
       "                    if (nbb_cells[i].input_prompt_number == nbb_cell_id) {\n",
       "                        if (nbb_cells[i].get_text() == nbb_unformatted_code) {\n",
       "                             nbb_cells[i].set_text(nbb_formatted_code);\n",
       "                        }\n",
       "                        break;\n",
       "                    }\n",
       "                }\n",
       "            }, 500);\n",
       "            "
      ],
      "text/plain": [
       "<IPython.core.display.Javascript object>"
      ]
     },
     "metadata": {},
     "output_type": "display_data"
    }
   ],
   "source": [
    "activities_df = activities_df[activities_df[\"startTimeLocal\"] > \"2019-08-30\"]\n",
    "activities_df[\"startTimeLocal\"].describe()"
   ]
  },
  {
   "cell_type": "code",
   "execution_count": 32,
   "metadata": {},
   "outputs": [
    {
     "data": {
      "image/png": "[encoded data removed]",
      "text/plain": [
       "<Figure size 1008x720 with 1 Axes>"
      ]
     },
     "metadata": {},
     "output_type": "display_data"
    },
    {
     "data": {
      "application/javascript": [
       "\n",
       "            setTimeout(function() {\n",
       "                var nbb_cell_id = 32;\n",
       "                var nbb_unformatted_code = \"months = ['January','February','March','April','May','June','July','August',\\n          'September','October','November','December']\\nplt.figure(figsize = (14,10))\\nactivities_df['month'] = pd.Categorical(activities_df['month'], categories=months, ordered=True)\\n\\nbars = plt.bar(months, activities_df.groupby('month')['distance'].sum(), alpha=0.6, align='center', \\n               width=0.9, linewidth=0, color='lightslategrey')\\nplt.title('Running & Cycling, km', fontsize = 24, color = '#006884')\\nplt.xticks(rotation = 90)\\nfor spine in plt.gca().spines.values():\\n    spine.set_visible(False)\\n   \\nlist_1 = bars[:6]+bars[7:]\\nfor bar in list_1:\\n    plt.gca().text(bar.get_x() + bar.get_width()/2, bar.get_height() - 10, str(int(bar.get_height())) + ' km', \\n                 ha='center', color='#006884', fontsize=14)\\nplt.show()\";\n",
       "                var nbb_formatted_code = \"months = [\\n    \\\"January\\\",\\n    \\\"February\\\",\\n    \\\"March\\\",\\n    \\\"April\\\",\\n    \\\"May\\\",\\n    \\\"June\\\",\\n    \\\"July\\\",\\n    \\\"August\\\",\\n    \\\"September\\\",\\n    \\\"October\\\",\\n    \\\"November\\\",\\n    \\\"December\\\",\\n]\\nplt.figure(figsize=(14, 10))\\nactivities_df[\\\"month\\\"] = pd.Categorical(\\n    activities_df[\\\"month\\\"], categories=months, ordered=True\\n)\\n\\nbars = plt.bar(\\n    months,\\n    activities_df.groupby(\\\"month\\\")[\\\"distance\\\"].sum(),\\n    alpha=0.6,\\n    align=\\\"center\\\",\\n    width=0.9,\\n    linewidth=0,\\n    color=\\\"lightslategrey\\\",\\n)\\nplt.title(\\\"Running & Cycling, km\\\", fontsize=24, color=\\\"#006884\\\")\\nplt.xticks(rotation=90)\\nfor spine in plt.gca().spines.values():\\n    spine.set_visible(False)\\n\\nlist_1 = bars[:6] + bars[7:]\\nfor bar in list_1:\\n    plt.gca().text(\\n        bar.get_x() + bar.get_width() / 2,\\n        bar.get_height() - 10,\\n        str(int(bar.get_height())) + \\\" km\\\",\\n        ha=\\\"center\\\",\\n        color=\\\"#006884\\\",\\n        fontsize=14,\\n    )\\nplt.show()\";\n",
       "                var nbb_cells = Jupyter.notebook.get_cells();\n",
       "                for (var i = 0; i < nbb_cells.length; ++i) {\n",
       "                    if (nbb_cells[i].input_prompt_number == nbb_cell_id) {\n",
       "                        if (nbb_cells[i].get_text() == nbb_unformatted_code) {\n",
       "                             nbb_cells[i].set_text(nbb_formatted_code);\n",
       "                        }\n",
       "                        break;\n",
       "                    }\n",
       "                }\n",
       "            }, 500);\n",
       "            "
      ],
      "text/plain": [
       "<IPython.core.display.Javascript object>"
      ]
     },
     "metadata": {},
     "output_type": "display_data"
    }
   ],
   "source": [
    "months = [\n",
    "    \"January\",\n",
    "    \"February\",\n",
    "    \"March\",\n",
    "    \"April\",\n",
    "    \"May\",\n",
    "    \"June\",\n",
    "    \"July\",\n",
    "    \"August\",\n",
    "    \"September\",\n",
    "    \"October\",\n",
    "    \"November\",\n",
    "    \"December\",\n",
    "]\n",
    "plt.figure(figsize=(14, 10))\n",
    "activities_df[\"month\"] = pd.Categorical(\n",
    "    activities_df[\"month\"], categories=months, ordered=True\n",
    ")\n",
    "\n",
    "bars = plt.bar(\n",
    "    months,\n",
    "    activities_df.groupby(\"month\")[\"distance\"].sum(),\n",
    "    alpha=0.6,\n",
    "    align=\"center\",\n",
    "    width=0.9,\n",
    "    linewidth=0,\n",
    "    color=\"lightslategrey\",\n",
    ")\n",
    "plt.title(\"Running & Cycling, km\", fontsize=24, color=\"#006884\")\n",
    "plt.xticks(rotation=90)\n",
    "for spine in plt.gca().spines.values():\n",
    "    spine.set_visible(False)\n",
    "\n",
    "list_1 = bars[:6] + bars[7:]\n",
    "for bar in list_1:\n",
    "    plt.gca().text(\n",
    "        bar.get_x() + bar.get_width() / 2,\n",
    "        bar.get_height() - 10,\n",
    "        str(int(bar.get_height())) + \" km\",\n",
    "        ha=\"center\",\n",
    "        color=\"#006884\",\n",
    "        fontsize=14,\n",
    "    )\n",
    "plt.show()"
   ]
  },
  {
   "cell_type": "markdown",
   "metadata": {},
   "source": [
    "- First activity recorded on 31'st of August, 2019.\n",
    "- Last activity recorded on 29'th of June, 2020.\n",
    "- Q4 is usually low season.\n",
    "- Peak in April show quarantine impact. \n",
    "- Key take away - running season is all year round in Lithuania :)."
   ]
  },
  {
   "cell_type": "markdown",
   "metadata": {},
   "source": [
    "## Geo graphs"
   ]
  },
  {
   "cell_type": "code",
   "execution_count": 35,
   "metadata": {},
   "outputs": [
    {
     "data": {
      "application/javascript": [
       "\n",
       "            setTimeout(function() {\n",
       "                var nbb_cell_id = 35;\n",
       "                var nbb_unformatted_code = \"activities = gpd.GeoDataFrame(activities_df, geometry=gpd.points_from_xy(activities_df[\\\"startLongitude\\\"], activities_df[\\\"startLatitude\\\"]))\";\n",
       "                var nbb_formatted_code = \"activities = gpd.GeoDataFrame(\\n    activities_df,\\n    geometry=gpd.points_from_xy(\\n        activities_df[\\\"startLongitude\\\"], activities_df[\\\"startLatitude\\\"]\\n    ),\\n)\";\n",
       "                var nbb_cells = Jupyter.notebook.get_cells();\n",
       "                for (var i = 0; i < nbb_cells.length; ++i) {\n",
       "                    if (nbb_cells[i].input_prompt_number == nbb_cell_id) {\n",
       "                        if (nbb_cells[i].get_text() == nbb_unformatted_code) {\n",
       "                             nbb_cells[i].set_text(nbb_formatted_code);\n",
       "                        }\n",
       "                        break;\n",
       "                    }\n",
       "                }\n",
       "            }, 500);\n",
       "            "
      ],
      "text/plain": [
       "<IPython.core.display.Javascript object>"
      ]
     },
     "metadata": {},
     "output_type": "display_data"
    }
   ],
   "source": [
    "activities = gpd.GeoDataFrame(\n",
    "    activities_df,\n",
    "    geometry=gpd.points_from_xy(\n",
    "        activities_df[\"startLongitude\"], activities_df[\"startLatitude\"]\n",
    "    ),\n",
    ")"
   ]
  },
  {
   "cell_type": "markdown",
   "metadata": {},
   "source": [
    "### Start place and quatity of sport activities "
   ]
  },
  {
   "cell_type": "code",
   "execution_count": 34,
   "metadata": {},
   "outputs": [
    {
     "data": {
      "text/html": [
       "<div style=\"width:100%;\"><div style=\"position:relative;width:100%;height:0;padding-bottom:60%;\"><span style=\"color:#565656\">Make this Notebook Trusted to load map: File -> Trust Notebook</span><iframe src=\"about:blank\" style=\"position:absolute;width:100%;height:100%;left:0;top:0;border:none !important;\" data-html=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 onload=\"this.contentDocument.open();this.contentDocument.write(atob(this.getAttribute('data-html')));this.contentDocument.close();\" allowfullscreen webkitallowfullscreen mozallowfullscreen></iframe></div></div>"
      ],
      "text/plain": [
       "<folium.folium.Map at 0x12740a410>"
      ]
     },
     "execution_count": 34,
     "metadata": {},
     "output_type": "execute_result"
    },
    {
     "data": {
      "application/javascript": [
       "\n",
       "            setTimeout(function() {\n",
       "                var nbb_cell_id = 34;\n",
       "                var nbb_unformatted_code = \"import math\\nlocations_map = folium.Map(location=[54.6872, 25.2797], tiles='cartodbpositron', zoom_start=13)\\n\\n# Add points to the map\\nmc = MarkerCluster()\\nfor idx, row in activities_df.iterrows():\\n    if not math.isnan(row['startLongitude']) and not math.isnan(row['startLatitude']):\\n        mc.add_child(Marker([row['startLatitude'], row['startLongitude']]))\\nlocations_map.add_child(mc)\\n\\nlocations_map\";\n",
       "                var nbb_formatted_code = \"import math\\n\\nlocations_map = folium.Map(\\n    location=[54.6872, 25.2797], tiles=\\\"cartodbpositron\\\", zoom_start=13\\n)\\n\\n# Add points to the map\\nmc = MarkerCluster()\\nfor idx, row in activities_df.iterrows():\\n    if not math.isnan(row[\\\"startLongitude\\\"]) and not math.isnan(row[\\\"startLatitude\\\"]):\\n        mc.add_child(Marker([row[\\\"startLatitude\\\"], row[\\\"startLongitude\\\"]]))\\nlocations_map.add_child(mc)\\n\\nlocations_map\";\n",
       "                var nbb_cells = Jupyter.notebook.get_cells();\n",
       "                for (var i = 0; i < nbb_cells.length; ++i) {\n",
       "                    if (nbb_cells[i].input_prompt_number == nbb_cell_id) {\n",
       "                        if (nbb_cells[i].get_text() == nbb_unformatted_code) {\n",
       "                             nbb_cells[i].set_text(nbb_formatted_code);\n",
       "                        }\n",
       "                        break;\n",
       "                    }\n",
       "                }\n",
       "            }, 500);\n",
       "            "
      ],
      "text/plain": [
       "<IPython.core.display.Javascript object>"
      ]
     },
     "metadata": {},
     "output_type": "display_data"
    }
   ],
   "source": [
    "import math\n",
    "\n",
    "locations_map = folium.Map(\n",
    "    location=[54.6872, 25.2797], tiles=\"cartodbpositron\", zoom_start=13\n",
    ")\n",
    "\n",
    "# Add points to the map\n",
    "mc = MarkerCluster()\n",
    "for idx, row in activities_df.iterrows():\n",
    "    if not math.isnan(row[\"startLongitude\"]) and not math.isnan(row[\"startLatitude\"]):\n",
    "        mc.add_child(Marker([row[\"startLatitude\"], row[\"startLongitude\"]]))\n",
    "locations_map.add_child(mc)\n",
    "\n",
    "locations_map"
   ]
  },
  {
   "cell_type": "markdown",
   "metadata": {},
   "source": [
    "- Popular running locations - near home and near work.\n",
    "- Activities dutring holidays and work travel too."
   ]
  },
  {
   "cell_type": "markdown",
   "metadata": {},
   "source": [
    "### Heatmap of sport activities"
   ]
  },
  {
   "cell_type": "code",
   "execution_count": 33,
   "metadata": {},
   "outputs": [
    {
     "data": {
      "text/html": [
       "<div style=\"width:100%;\"><div style=\"position:relative;width:100%;height:0;padding-bottom:60%;\"><span style=\"color:#565656\">Make this Notebook Trusted to load map: File -> Trust Notebook</span><iframe src=\"about:blank\" style=\"position:absolute;width:100%;height:100%;left:0;top:0;border:none !important;\" data-html=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 onload=\"this.contentDocument.open();this.contentDocument.write(atob(this.getAttribute('data-html')));this.contentDocument.close();\" allowfullscreen webkitallowfullscreen mozallowfullscreen></iframe></div></div>"
      ],
      "text/plain": [
       "<folium.folium.Map at 0x1271c7f10>"
      ]
     },
     "execution_count": 33,
     "metadata": {},
     "output_type": "execute_result"
    },
    {
     "data": {
      "application/javascript": [
       "\n",
       "            setTimeout(function() {\n",
       "                var nbb_cell_id = 33;\n",
       "                var nbb_unformatted_code = \"sport_heatmap = folium.Map(location=[54.6872, 25.2797], tiles='cartodbpositron', zoom_start=8)\\nHeatMap(data=activities_df[['startLatitude','startLongitude']], radius=10).add_to(sport_heatmap)\\n\\nsport_heatmap\";\n",
       "                var nbb_formatted_code = \"sport_heatmap = folium.Map(\\n    location=[54.6872, 25.2797], tiles=\\\"cartodbpositron\\\", zoom_start=8\\n)\\nHeatMap(data=activities_df[[\\\"startLatitude\\\", \\\"startLongitude\\\"]], radius=10).add_to(\\n    sport_heatmap\\n)\\n\\nsport_heatmap\";\n",
       "                var nbb_cells = Jupyter.notebook.get_cells();\n",
       "                for (var i = 0; i < nbb_cells.length; ++i) {\n",
       "                    if (nbb_cells[i].input_prompt_number == nbb_cell_id) {\n",
       "                        if (nbb_cells[i].get_text() == nbb_unformatted_code) {\n",
       "                             nbb_cells[i].set_text(nbb_formatted_code);\n",
       "                        }\n",
       "                        break;\n",
       "                    }\n",
       "                }\n",
       "            }, 500);\n",
       "            "
      ],
      "text/plain": [
       "<IPython.core.display.Javascript object>"
      ]
     },
     "metadata": {},
     "output_type": "display_data"
    }
   ],
   "source": [
    "sport_heatmap = folium.Map(\n",
    "    location=[54.6872, 25.2797], tiles=\"cartodbpositron\", zoom_start=8\n",
    ")\n",
    "HeatMap(data=activities_df[[\"startLatitude\", \"startLongitude\"]], radius=10).add_to(\n",
    "    sport_heatmap\n",
    ")\n",
    "\n",
    "sport_heatmap"
   ]
  },
  {
   "cell_type": "code",
   "execution_count": null,
   "metadata": {},
   "outputs": [],
   "source": []
  }
 ],
 "metadata": {
  "kernelspec": {
   "display_name": "Python 3",
   "language": "python",
   "name": "python3"
  },
  "language_info": {
   "codemirror_mode": {
    "name": "ipython",
    "version": 3
   },
   "file_extension": ".py",
   "mimetype": "text/x-python",
   "name": "python",
   "nbconvert_exporter": "python",
   "pygments_lexer": "ipython3",
   "version": "3.7.4"
  }
 },
 "nbformat": 4,
 "nbformat_minor": 4
}
